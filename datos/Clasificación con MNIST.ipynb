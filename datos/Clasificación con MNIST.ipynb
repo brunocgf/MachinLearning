{
 "cells": [
  {
   "cell_type": "markdown",
   "metadata": {},
   "source": [
    "# Clasificación con MNIST"
   ]
  },
  {
   "cell_type": "markdown",
   "metadata": {},
   "source": [
    "Bruno César Gonzalez\n",
    "150370"
   ]
  },
  {
   "cell_type": "markdown",
   "metadata": {},
   "source": [
    "En esta sección vamos a demostrar el poder de las redes neuronales conPyTorch. Vamos a usar el conjunto de datosMNIST1\n",
    "1. Instaletorchytorchvisionen su computadora.\n",
    "2. Cree una carpeta llamadadatosen su carpeta de trabajomkdir ./datos.\n",
    "3. Lea acerca de la capa lineal de PyTorchhttps://pytorch.org/docs/stable/nn.html#torch.nn.Linear.\n",
    "4. Cree un archivomodelos.pye implemente el siguiente código que implementaregresión logística multinomial.Rellene las líneas[COMENTARIO]para explicar que hace cada segmento de código."
   ]
  },
  {
   "cell_type": "code",
   "execution_count": 1,
   "metadata": {},
   "outputs": [],
   "source": [
    "import torch.nn as nn\n",
    "import torch.nn.functional as F\n",
    "# ==================\n",
    "# Regresion logistica multinomial\n",
    "# ==================\n",
    "class RegresionMultinomial(nn.Module):\n",
    "  def __init__(self, input_size, num_classes):\n",
    "    super(RegresionMultinomial, self).__init__()\n",
    "    self.linear = nn.Linear(input_size, num_classes)\n",
    "    \n",
    "  def forward(self, x):\n",
    "    out = self.linear(x)\n",
    "    return out\n"
   ]
  },
  {
   "cell_type": "markdown",
   "metadata": {},
   "source": [
    "5. Puede probar el modelo RegresionMultinomialcon el siguiente código. Rellene las líneas de [COMENTARIO]para explicar las diferentes secciones del código."
   ]
  },
  {
   "cell_type": "code",
   "execution_count": 2,
   "metadata": {},
   "outputs": [
    {
     "name": "stdout",
     "output_type": "stream",
     "text": [
      "Epoca: 1/5, Paso: 100/600, Perdida: 2.16616\n",
      "Epoca: 1/5, Paso: 200/600, Perdida: 2.07468\n",
      "Epoca: 1/5, Paso: 300/600, Perdida: 1.99461\n",
      "Epoca: 1/5, Paso: 400/600, Perdida: 1.92590\n",
      "Epoca: 1/5, Paso: 500/600, Perdida: 1.87350\n",
      "Epoca: 1/5, Paso: 600/600, Perdida: 1.74184\n",
      "Epoca: 2/5, Paso: 100/600, Perdida: 1.71520\n",
      "Epoca: 2/5, Paso: 200/600, Perdida: 1.65066\n",
      "Epoca: 2/5, Paso: 300/600, Perdida: 1.58322\n",
      "Epoca: 2/5, Paso: 400/600, Perdida: 1.59248\n",
      "Epoca: 2/5, Paso: 500/600, Perdida: 1.43114\n",
      "Epoca: 2/5, Paso: 600/600, Perdida: 1.47023\n",
      "Epoca: 3/5, Paso: 100/600, Perdida: 1.36498\n",
      "Epoca: 3/5, Paso: 200/600, Perdida: 1.33142\n",
      "Epoca: 3/5, Paso: 300/600, Perdida: 1.39326\n",
      "Epoca: 3/5, Paso: 400/600, Perdida: 1.43480\n",
      "Epoca: 3/5, Paso: 500/600, Perdida: 1.40112\n",
      "Epoca: 3/5, Paso: 600/600, Perdida: 1.19735\n",
      "Epoca: 4/5, Paso: 100/600, Perdida: 1.20553\n",
      "Epoca: 4/5, Paso: 200/600, Perdida: 1.20173\n",
      "Epoca: 4/5, Paso: 300/600, Perdida: 1.18362\n",
      "Epoca: 4/5, Paso: 400/600, Perdida: 1.15534\n",
      "Epoca: 4/5, Paso: 500/600, Perdida: 1.18604\n",
      "Epoca: 4/5, Paso: 600/600, Perdida: 1.11730\n",
      "Epoca: 5/5, Paso: 100/600, Perdida: 1.14959\n",
      "Epoca: 5/5, Paso: 200/600, Perdida: 1.03604\n",
      "Epoca: 5/5, Paso: 300/600, Perdida: 1.03775\n",
      "Epoca: 5/5, Paso: 400/600, Perdida: 1.02483\n",
      "Epoca: 5/5, Paso: 500/600, Perdida: 1.02641\n",
      "Epoca: 5/5, Paso: 600/600, Perdida: 0.92829\n"
     ]
    }
   ],
   "source": [
    "import torch\n",
    "import torch.nn as nn\n",
    "import torchvision\n",
    "from torchvision.datasets import MNIST\n",
    "from torch.utils.data import DataLoader\n",
    "from torchvision.transforms import ToTensor\n",
    "from modelos import RegresionMultinomial\n",
    "\n",
    "# Se verifica si esta disponible CUDA,en caso contraro se usa el procesador\n",
    "device = torch.device('cuda'if torch.cuda.is_available() else'cpu')\n",
    "\n",
    "# Hiper-parametros\n",
    "input_size = 784 # Dimension de datos de entrada (28 x 28)\n",
    "num_classes = 10 # MNIST tiene 10 clases (numeros del 1 al 10)\n",
    "num_epochs = 5 # Numero de epocas para entrenar\n",
    "bs = 100 # Tamano de lote (batch_size)\n",
    "lr = 0.001 # Tasa de aprendizaje\n",
    "\n",
    "# Se bajan los datos MINST\n",
    "\n",
    "root ='./datos'# Carpeta donde se guardaran los datos\n",
    "train_data = MNIST(root, train=True, transform=ToTensor(), download=True)\n",
    "test_data  = MNIST(root, train=False, transform=ToTensor())\n",
    "\n",
    "# Se crea el iterable sobre el dataset\n",
    "train_loader = DataLoader(train_data, batch_size=bs, shuffle=True)\n",
    "test_loader  = DataLoader(test_data,  batch_size=bs, shuffle=False)\n",
    "\n",
    "# ==================\n",
    "# Definimos modelo\n",
    "# ==================\n",
    "\n",
    "# Se define el modelo \n",
    "model = RegresionMultinomial(input_size, num_classes).to(device)\n",
    "loss_function = nn.CrossEntropyLoss()\n",
    "\n",
    "# ==================\n",
    "# Optimizacion\n",
    "# ==================\n",
    "\n",
    "# Implementa el gradiente descendiente para la optimizacion\n",
    "optimizer = torch.optim.SGD(model.parameters(), lr=lr)\n",
    "\n",
    "# Entrenamiento del modelo\n",
    "for epoch in range(num_epochs):\n",
    "  for i, (xi, yi) in enumerate(train_loader):\n",
    "    \n",
    "    # Las entradas de la imagen se convierten en vectores\n",
    "    xi = xi.reshape(-1, 28*28).to(device)# imagenes\n",
    "    yi = yi.to(device)# etiquetas\n",
    "    \n",
    "    # Propagacion para adelante\n",
    "    output = model(xi)\n",
    "    loss = loss_function(output, yi)\n",
    "    # Propagcion para atras y paso de optimizacion\n",
    "    \n",
    "    optimizer.zero_grad()\n",
    "    loss.backward()\n",
    "    optimizer.step()\n",
    "    \n",
    "    if (i+1) % 100 == 0:\n",
    "      print ('Epoca: {}/{}, Paso: {}/{}, Perdida: {:.5f}'.format(epoch+1,num_epochs, i+1, len(train_loader), loss.item()))\n",
    "      \n",
    "  "
   ]
  },
  {
   "cell_type": "code",
   "execution_count": 3,
   "metadata": {},
   "outputs": [
    {
     "name": "stdout",
     "output_type": "stream",
     "text": [
      "Precision del modelo en 10000 imagenes: 83.13\n"
     ]
    }
   ],
   "source": [
    "with torch.no_grad():\n",
    "  correct = 0\n",
    "  total = 0\n",
    "  for xi, yi in test_loader:\n",
    "    # Las entradas de la imagen se convierten en vectores\n",
    "    xi = xi.reshape(-1, 28*28).to(device)\n",
    "    yi = yi.to(device)\n",
    "    \n",
    "    # Se hacen las predicciones\n",
    "    output = model(xi)\n",
    "    _, predicted = torch.max(output.data, 1)\n",
    "    \n",
    "    total += yi.size(0)\n",
    "    correct += (predicted == yi).sum().item()\n",
    "    \n",
    "  print(f'Precision del modelo en {total} imagenes: {100 * correct / total}')\n",
    "\n",
    "des = []\n",
    "des.append(100 * correct / total)"
   ]
  },
  {
   "cell_type": "markdown",
   "metadata": {},
   "source": [
    "6. Incluya en su archivomodelos.pyla siguiente clase que implementa una red neuronal conuna capa escondidayactivaciones sigmoide. Rellene los comentarios."
   ]
  },
  {
   "cell_type": "code",
   "execution_count": 4,
   "metadata": {},
   "outputs": [],
   "source": [
    "class RedNeuronal(nn.Module):\n",
    "  def __init__(self, input_size, num_classes):\n",
    "    \n",
    "    #Se definene las condiciones iniciales\n",
    "    super(RedNeuronal, self).__init__()\n",
    "    \n",
    "    # La capa oculta es de 500 unidades\n",
    "    hidden_size = 500\n",
    "    \n",
    "    # Se usa una función e activación sigmoide\n",
    "    self.fc1 = nn.Linear(input_size, hidden_size)\n",
    "    self.sigmoid = nn.Sigmoid()\n",
    "    self.fc2 = nn.Linear(hidden_size, num_classes)\n",
    "    \n",
    "  def forward(self, x):\n",
    "    out = self.fc1(x)\n",
    "    out = self.sigmoid(out)\n",
    "    out = self.fc2(out)\n",
    "    return out"
   ]
  },
  {
   "cell_type": "markdown",
   "metadata": {},
   "source": [
    "7. Pruebe el desempeño deRedNeuronaly compare los resultados conRegresionMultinomial."
   ]
  },
  {
   "cell_type": "code",
   "execution_count": 5,
   "metadata": {},
   "outputs": [
    {
     "name": "stdout",
     "output_type": "stream",
     "text": [
      "Epoca: 1/5, Paso: 100/600, Perdida: 2.29962\n",
      "Epoca: 1/5, Paso: 200/600, Perdida: 2.30401\n",
      "Epoca: 1/5, Paso: 300/600, Perdida: 2.29963\n",
      "Epoca: 1/5, Paso: 400/600, Perdida: 2.29037\n",
      "Epoca: 1/5, Paso: 500/600, Perdida: 2.28146\n",
      "Epoca: 1/5, Paso: 600/600, Perdida: 2.27926\n",
      "Epoca: 2/5, Paso: 100/600, Perdida: 2.27537\n",
      "Epoca: 2/5, Paso: 200/600, Perdida: 2.27816\n",
      "Epoca: 2/5, Paso: 300/600, Perdida: 2.27676\n",
      "Epoca: 2/5, Paso: 400/600, Perdida: 2.26693\n",
      "Epoca: 2/5, Paso: 500/600, Perdida: 2.25274\n",
      "Epoca: 2/5, Paso: 600/600, Perdida: 2.25924\n",
      "Epoca: 3/5, Paso: 100/600, Perdida: 2.25174\n",
      "Epoca: 3/5, Paso: 200/600, Perdida: 2.24151\n",
      "Epoca: 3/5, Paso: 300/600, Perdida: 2.25039\n",
      "Epoca: 3/5, Paso: 400/600, Perdida: 2.23944\n",
      "Epoca: 3/5, Paso: 500/600, Perdida: 2.26194\n",
      "Epoca: 3/5, Paso: 600/600, Perdida: 2.22747\n",
      "Epoca: 4/5, Paso: 100/600, Perdida: 2.24413\n",
      "Epoca: 4/5, Paso: 200/600, Perdida: 2.22414\n",
      "Epoca: 4/5, Paso: 300/600, Perdida: 2.21918\n",
      "Epoca: 4/5, Paso: 400/600, Perdida: 2.22984\n",
      "Epoca: 4/5, Paso: 500/600, Perdida: 2.19777\n",
      "Epoca: 4/5, Paso: 600/600, Perdida: 2.21748\n",
      "Epoca: 5/5, Paso: 100/600, Perdida: 2.20988\n",
      "Epoca: 5/5, Paso: 200/600, Perdida: 2.20910\n",
      "Epoca: 5/5, Paso: 300/600, Perdida: 2.20363\n",
      "Epoca: 5/5, Paso: 400/600, Perdida: 2.18813\n",
      "Epoca: 5/5, Paso: 500/600, Perdida: 2.20500\n",
      "Epoca: 5/5, Paso: 600/600, Perdida: 2.19602\n"
     ]
    }
   ],
   "source": [
    "from modelos import RedNeuronal\n",
    "\n",
    "\n",
    "# Se define el modelo \n",
    "model = RedNeuronal(input_size, num_classes).to(device)\n",
    "loss_function = nn.CrossEntropyLoss()\n",
    "\n",
    "# ==================\n",
    "# Optimizacion\n",
    "# ==================\n",
    "\n",
    "optimizer = torch.optim.SGD(model.parameters(), lr=lr)\n",
    "\n",
    "# Entrenamiento del modelo\n",
    "for epoch in range(num_epochs):\n",
    "  for i, (xi, yi) in enumerate(train_loader):\n",
    "    \n",
    "    xi = xi.reshape(-1, 28*28).to(device)# imagenes\n",
    "    yi = yi.to(device)# etiquetas\n",
    "    \n",
    "    # Propagacion para adelante\n",
    "    output = model(xi)\n",
    "    loss = loss_function(output, yi)\n",
    "    # Propagcion para atras y paso de optimizacion\n",
    "    \n",
    "    optimizer.zero_grad()\n",
    "    loss.backward()\n",
    "    optimizer.step()\n",
    "    \n",
    "    if (i+1) % 100 == 0:\n",
    "      print ('Epoca: {}/{}, Paso: {}/{}, Perdida: {:.5f}'.format(epoch+1,num_epochs, i+1, len(train_loader), loss.item()))"
   ]
  },
  {
   "cell_type": "markdown",
   "metadata": {},
   "source": [
    "Probamos el desempeño del modelo"
   ]
  },
  {
   "cell_type": "code",
   "execution_count": 6,
   "metadata": {},
   "outputs": [
    {
     "name": "stdout",
     "output_type": "stream",
     "text": [
      "Precision del modelo en 10000 imagenes: 45.0\n"
     ]
    }
   ],
   "source": [
    "with torch.no_grad():\n",
    "  correct = 0\n",
    "  total = 0\n",
    "  for xi, yi in test_loader:\n",
    "    # [COMENTARIO]\n",
    "    xi = xi.reshape(-1, 28*28).to(device)\n",
    "    yi = yi.to(device)\n",
    "    \n",
    "    # [COMENTARIO]\n",
    "    output = model(xi)\n",
    "    _, predicted = torch.max(output.data, 1)\n",
    "    \n",
    "    total += yi.size(0)\n",
    "    correct += (predicted == yi).sum().item()\n",
    "    \n",
    "  print(f'Precision del modelo en {total} imagenes: {100 * correct / total}')\n",
    "des.append(100 * correct / total)"
   ]
  },
  {
   "cell_type": "markdown",
   "metadata": {},
   "source": [
    "El desempeño es mucho peor que el que no tiene capa oculta."
   ]
  },
  {
   "cell_type": "markdown",
   "metadata": {},
   "source": [
    "8. Considere las siguientes arquitecturas de redes neuronales:\n",
    "\n",
    "a)RedNeuronal: Una capa escondida con 500 unidades (la que ya tenemos).\n",
    "\n",
    "b)RedNeuronal3: Tres capas escondidas de 500, 100 y 30 unidades.\n",
    "\n",
    "c)RedNeuronal5: Cinco capas escondidas de 500, 300, 100, 50, 30 unidades.Experimente cómo cambia el desempeño en cada uno de estos modelos al variar las funciones de activación y eloptimizador. Al hacer esto:"
   ]
  },
  {
   "cell_type": "code",
   "execution_count": 7,
   "metadata": {},
   "outputs": [
    {
     "name": "stdout",
     "output_type": "stream",
     "text": [
      "Epoca: 1/5, Paso: 100/600, Perdida: 2.30958\n",
      "Epoca: 1/5, Paso: 200/600, Perdida: 2.30008\n",
      "Epoca: 1/5, Paso: 300/600, Perdida: 2.30023\n",
      "Epoca: 1/5, Paso: 400/600, Perdida: 2.28431\n",
      "Epoca: 1/5, Paso: 500/600, Perdida: 2.29353\n",
      "Epoca: 1/5, Paso: 600/600, Perdida: 2.29980\n",
      "Epoca: 2/5, Paso: 100/600, Perdida: 2.30310\n",
      "Epoca: 2/5, Paso: 200/600, Perdida: 2.29923\n",
      "Epoca: 2/5, Paso: 300/600, Perdida: 2.28596\n",
      "Epoca: 2/5, Paso: 400/600, Perdida: 2.27811\n",
      "Epoca: 2/5, Paso: 500/600, Perdida: 2.27193\n",
      "Epoca: 2/5, Paso: 600/600, Perdida: 2.25072\n",
      "Epoca: 3/5, Paso: 100/600, Perdida: 2.26841\n",
      "Epoca: 3/5, Paso: 200/600, Perdida: 2.26983\n",
      "Epoca: 3/5, Paso: 300/600, Perdida: 2.27412\n",
      "Epoca: 3/5, Paso: 400/600, Perdida: 2.26427\n",
      "Epoca: 3/5, Paso: 500/600, Perdida: 2.25572\n",
      "Epoca: 3/5, Paso: 600/600, Perdida: 2.27360\n",
      "Epoca: 4/5, Paso: 100/600, Perdida: 2.24276\n",
      "Epoca: 4/5, Paso: 200/600, Perdida: 2.24379\n",
      "Epoca: 4/5, Paso: 300/600, Perdida: 2.25100\n",
      "Epoca: 4/5, Paso: 400/600, Perdida: 2.23689\n",
      "Epoca: 4/5, Paso: 500/600, Perdida: 2.22715\n",
      "Epoca: 4/5, Paso: 600/600, Perdida: 2.23462\n",
      "Epoca: 5/5, Paso: 100/600, Perdida: 2.23221\n",
      "Epoca: 5/5, Paso: 200/600, Perdida: 2.20681\n",
      "Epoca: 5/5, Paso: 300/600, Perdida: 2.19676\n",
      "Epoca: 5/5, Paso: 400/600, Perdida: 2.20549\n",
      "Epoca: 5/5, Paso: 500/600, Perdida: 2.20519\n",
      "Epoca: 5/5, Paso: 600/600, Perdida: 2.19132\n",
      "Precision del modelo en 10000 imagenes: 52.63\n"
     ]
    }
   ],
   "source": [
    "from modelos import RedNeuronal3\n",
    "\n",
    "\n",
    "# Se define el modelo \n",
    "model = RedNeuronal3(input_size, num_classes).to(device)\n",
    "loss_function = nn.CrossEntropyLoss()\n",
    "\n",
    "# ==================\n",
    "# Optimizacion\n",
    "# ==================\n",
    "\n",
    "# [COMENTARIO]\n",
    "optimizer = torch.optim.SGD(model.parameters(), lr=lr)\n",
    "\n",
    "# Entrenamiento del modelo\n",
    "for epoch in range(num_epochs):\n",
    "  for i, (xi, yi) in enumerate(train_loader):\n",
    "    \n",
    "    # [COMENTARIO]\n",
    "    xi = xi.reshape(-1, 28*28).to(device)# imagenes\n",
    "    yi = yi.to(device)# etiquetas\n",
    "    \n",
    "    # Propagacion para adelante\n",
    "    output = model(xi)\n",
    "    loss = loss_function(output, yi)\n",
    "    # Propagcion para atras y paso de optimizacion\n",
    "    \n",
    "    optimizer.zero_grad()\n",
    "    loss.backward()\n",
    "    optimizer.step()\n",
    "    \n",
    "    if (i+1) % 100 == 0:\n",
    "      print ('Epoca: {}/{}, Paso: {}/{}, Perdida: {:.5f}'.format(epoch+1,num_epochs, i+1, len(train_loader), loss.item()))\n",
    "      \n",
    "# Prueba del modelo\n",
    "# Al probar, usamos torch.no_grad() porque [COMENTARIO]\n",
    "with torch.no_grad():\n",
    "  correct = 0\n",
    "  total = 0\n",
    "  for xi, yi in test_loader:\n",
    "    # [COMENTARIO]\n",
    "    xi = xi.reshape(-1, 28*28).to(device)\n",
    "    yi = yi.to(device)\n",
    "    \n",
    "    # [COMENTARIO]\n",
    "    output = model(xi)\n",
    "    _, predicted = torch.max(output.data, 1)\n",
    "    \n",
    "    total += yi.size(0)\n",
    "    correct += (predicted == yi).sum().item()\n",
    "    \n",
    "  print(f'Precision del modelo en {total} imagenes: {100 * correct / total}')\n",
    "des.append(100 * correct / total)"
   ]
  },
  {
   "cell_type": "markdown",
   "metadata": {},
   "source": [
    "Ahora construyamos el modelo con 5 capas escondidas"
   ]
  },
  {
   "cell_type": "code",
   "execution_count": 10,
   "metadata": {},
   "outputs": [
    {
     "name": "stdout",
     "output_type": "stream",
     "text": [
      "Epoca: 1/5, Paso: 100/600, Perdida: 2.28778\n",
      "Epoca: 1/5, Paso: 200/600, Perdida: 2.31950\n",
      "Epoca: 1/5, Paso: 300/600, Perdida: 2.31355\n",
      "Epoca: 1/5, Paso: 400/600, Perdida: 2.29777\n",
      "Epoca: 1/5, Paso: 500/600, Perdida: 2.29374\n",
      "Epoca: 1/5, Paso: 600/600, Perdida: 2.30349\n",
      "Epoca: 2/5, Paso: 100/600, Perdida: 2.29980\n",
      "Epoca: 2/5, Paso: 200/600, Perdida: 2.30542\n",
      "Epoca: 2/5, Paso: 300/600, Perdida: 2.30369\n",
      "Epoca: 2/5, Paso: 400/600, Perdida: 2.30673\n",
      "Epoca: 2/5, Paso: 500/600, Perdida: 2.30756\n",
      "Epoca: 2/5, Paso: 600/600, Perdida: 2.30046\n",
      "Epoca: 3/5, Paso: 100/600, Perdida: 2.31254\n",
      "Epoca: 3/5, Paso: 200/600, Perdida: 2.30370\n",
      "Epoca: 3/5, Paso: 300/600, Perdida: 2.28896\n",
      "Epoca: 3/5, Paso: 400/600, Perdida: 2.30301\n",
      "Epoca: 3/5, Paso: 500/600, Perdida: 2.29762\n",
      "Epoca: 3/5, Paso: 600/600, Perdida: 2.29109\n",
      "Epoca: 4/5, Paso: 100/600, Perdida: 2.29541\n",
      "Epoca: 4/5, Paso: 200/600, Perdida: 2.29527\n",
      "Epoca: 4/5, Paso: 300/600, Perdida: 2.28702\n",
      "Epoca: 4/5, Paso: 400/600, Perdida: 2.29964\n",
      "Epoca: 4/5, Paso: 500/600, Perdida: 2.29599\n",
      "Epoca: 4/5, Paso: 600/600, Perdida: 2.28900\n",
      "Epoca: 5/5, Paso: 100/600, Perdida: 2.29414\n",
      "Epoca: 5/5, Paso: 200/600, Perdida: 2.28229\n",
      "Epoca: 5/5, Paso: 300/600, Perdida: 2.27728\n",
      "Epoca: 5/5, Paso: 400/600, Perdida: 2.29110\n",
      "Epoca: 5/5, Paso: 500/600, Perdida: 2.28576\n",
      "Epoca: 5/5, Paso: 600/600, Perdida: 2.28553\n",
      "Precision del modelo en 10000 imagenes: 19.83\n"
     ]
    }
   ],
   "source": [
    "class RedNeuronal5(nn.Module):\n",
    "  def __init__(self, input_size, num_classes):\n",
    "    \n",
    "    super(RedNeuronal5, self).__init__()\n",
    "    \n",
    "    hidden_size1 = 500\n",
    "    hidden_size2 = 300\n",
    "    hidden_size3 = 100\n",
    "    hidden_size4 = 50\n",
    "    hidden_size5 = 30\n",
    "    \n",
    "    # [COMENTARIO]\n",
    "    self.fc1 = nn.Linear(input_size, hidden_size1)\n",
    "    self.relu = nn.ReLU()\n",
    "    self.fc2 = nn.Linear(hidden_size1, hidden_size2)\n",
    "    self.fc3 = nn.Linear(hidden_size2, hidden_size3)\n",
    "    self.fc4 = nn.Linear(hidden_size3, hidden_size4)\n",
    "    self.fc5 = nn.Linear(hidden_size4, hidden_size5)\n",
    "    self.fc6 = nn.Linear(hidden_size5, num_classes)\n",
    "    \n",
    "  def forward(self, x):\n",
    "    out = self.fc1(x)\n",
    "    out = self.relu(out)\n",
    "    out = self.fc2(out)\n",
    "    out = self.fc3(out)\n",
    "    out = self.fc4(out)\n",
    "    out = self.fc5(out)\n",
    "    out = self.fc6(out)\n",
    "    return out\n",
    "  \n",
    "\n",
    "\n",
    "# Se define el modelo \n",
    "model = RedNeuronal5(input_size, num_classes).to(device)\n",
    "loss_function = nn.CrossEntropyLoss()\n",
    "\n",
    "# ==================\n",
    "# Optimizacion\n",
    "# ==================\n",
    "\n",
    "# [COMENTARIO]\n",
    "optimizer = torch.optim.SGD(model.parameters(), lr=lr)\n",
    "\n",
    "# Entrenamiento del modelo\n",
    "for epoch in range(num_epochs):\n",
    "  for i, (xi, yi) in enumerate(train_loader):\n",
    "    \n",
    "    # [COMENTARIO]\n",
    "    xi = xi.reshape(-1, 28*28).to(device)# imagenes\n",
    "    yi = yi.to(device)# etiquetas\n",
    "    \n",
    "    # Propagacion para adelante\n",
    "    output = model(xi)\n",
    "    loss = loss_function(output, yi)\n",
    "    # Propagcion para atras y paso de optimizacion\n",
    "    \n",
    "    optimizer.zero_grad()\n",
    "    loss.backward()\n",
    "    optimizer.step()\n",
    "    \n",
    "    if (i+1) % 100 == 0:\n",
    "      print ('Epoca: {}/{}, Paso: {}/{}, Perdida: {:.5f}'.format(epoch+1,num_epochs, i+1, len(train_loader), loss.item()))\n",
    "      \n",
    "# Prueba del modelo\n",
    "# Al probar, usamos torch.no_grad() porque [COMENTARIO]\n",
    "with torch.no_grad():\n",
    "  correct = 0\n",
    "  total = 0\n",
    "  for xi, yi in test_loader:\n",
    "    # [COMENTARIO]\n",
    "    xi = xi.reshape(-1, 28*28).to(device)\n",
    "    yi = yi.to(device)\n",
    "    \n",
    "    # [COMENTARIO]\n",
    "    output = model(xi)\n",
    "    _, predicted = torch.max(output.data, 1)\n",
    "    \n",
    "    total += yi.size(0)\n",
    "    correct += (predicted == yi).sum().item()\n",
    "    \n",
    "  print(f'Precision del modelo en {total} imagenes: {100 * correct / total}')\n",
    "des.append(100 * correct / total)"
   ]
  },
  {
   "cell_type": "code",
   "execution_count": 14,
   "metadata": {},
   "outputs": [
    {
     "data": {
      "image/png": "[encoded data removed]",
      "text/plain": [
       "<Figure size 432x288 with 1 Axes>"
      ]
     },
     "metadata": {
      "needs_background": "light"
     },
     "output_type": "display_data"
    }
   ],
   "source": [
    "import matplotlib.pyplot as plt\n",
    "\n",
    "plt.bar(['RegMult','RN','RN3','RN5'],des)\n",
    "plt.ylabel('Precisió del modelo')\n",
    "plt.show()"
   ]
  },
  {
   "cell_type": "code",
   "execution_count": null,
   "metadata": {},
   "outputs": [],
   "source": []
  }
 ],
 "metadata": {
  "kernelspec": {
   "display_name": "Python 3",
   "language": "python",
   "name": "python3"
  },
  "language_info": {
   "codemirror_mode": {
    "name": "ipython",
    "version": 3
   },
   "file_extension": ".py",
   "mimetype": "text/x-python",
   "name": "python",
   "nbconvert_exporter": "python",
   "pygments_lexer": "ipython3",
   "version": "3.7.3"
  }
 },
 "nbformat": 4,
 "nbformat_minor": 2
}
