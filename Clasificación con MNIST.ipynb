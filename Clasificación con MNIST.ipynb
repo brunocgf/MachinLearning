{
 "cells": [
  {
   "cell_type": "markdown",
   "metadata": {},
   "source": [
    "# Clasificación con MNIST"
   ]
  },
  {
   "cell_type": "markdown",
   "metadata": {},
   "source": [
    "Bruno César Gonzalez\n",
    "150370"
   ]
  },
  {
   "cell_type": "markdown",
   "metadata": {},
   "source": [
    "En esta sección vamos a demostrar el poder de las redes neuronales conPyTorch. Vamos a usar el conjunto de datosMNIST1\n",
    "1. Instaletorchytorchvisionen su computadora.\n",
    "2. Cree una carpeta llamadadatosen su carpeta de trabajomkdir ./datos.\n",
    "3. Lea acerca de la capa lineal de PyTorchhttps://pytorch.org/docs/stable/nn.html#torch.nn.Linear.\n",
    "4. Cree un archivomodelos.pye implemente el siguiente código que implementaregresión logística multinomial.Rellene las líneas[COMENTARIO]para explicar que hace cada segmento de código."
   ]
  },
  {
   "cell_type": "code",
   "execution_count": 1,
   "metadata": {},
   "outputs": [],
   "source": [
    "import torch.nn as nn\n",
    "import torch.nn.functional as F\n",
    "# ==================\n",
    "# Regresion logistica multinomial\n",
    "# ==================\n",
    "class RegresionMultinomial(nn.Module):\n",
    "  def __init__(self, input_size, num_classes):\n",
    "    super(RegresionMultinomial, self).__init__()\n",
    "    self.linear = nn.Linear(input_size, num_classes)\n",
    "    \n",
    "  def forward(self, x):\n",
    "    out = self.linear(x)\n",
    "    return out\n"
   ]
  },
  {
   "cell_type": "markdown",
   "metadata": {},
   "source": [
    "5. Puede probar el modelo RegresionMultinomialcon el siguiente código. Rellene las líneas de [COMENTARIO]para explicar las diferentes secciones del código."
   ]
  },
  {
   "cell_type": "code",
   "execution_count": 2,
   "metadata": {},
   "outputs": [],
   "source": [
    "import torch\n",
    "import torch.nn as nn\n",
    "import torchvision\n",
    "from torchvision.datasets import MNIST\n",
    "from torch.utils.data import DataLoader\n",
    "from torchvision.transforms import ToTensor\n",
    "from modelos import RegresionMultinomial\n",
    "\n",
    "# Se verifica si esta disponible CUDA,en caso contraro se usa el procesador\n",
    "device = torch.device('cuda'if torch.cuda.is_available() else'cpu')\n",
    "\n",
    "# Hiper-parametros\n",
    "input_size = 784 # Dimension de datos de entrada (28 x 28)\n",
    "num_classes = 10 # MNIST tiene 10 clases (numeros del 1 al 10)\n",
    "num_epochs = 5 # Numero de epocas para entrenar\n",
    "bs = 100 # Tamano de lote (batch_size)\n",
    "lr = 0.001 # Tasa de aprendizaje\n",
    "\n",
    "# Se bajan los datos MINST\n",
    "\n",
    "root ='./datos'# Carpeta donde se guardaran los datos\n",
    "train_data = MNIST(root, train=True, transform=ToTensor(), download=True)\n",
    "test_data  = MNIST(root, train=False, transform=ToTensor())\n",
    "\n",
    "# Se crea el iterable sobre el dataset\n",
    "train_loader = DataLoader(train_data, batch_size=bs, shuffle=True)\n",
    "test_loader  = DataLoader(test_data,  batch_size=bs, shuffle=False)\n",
    "\n",
    "    \n",
    "  "
   ]
  },
  {
   "cell_type": "code",
   "execution_count": 3,
   "metadata": {},
   "outputs": [
    {
     "name": "stdout",
     "output_type": "stream",
     "text": [
      "Epoca: 1/5, Paso: 100/600, Perdida: 2.20932\n",
      "Epoca: 1/5, Paso: 200/600, Perdida: 2.08961\n",
      "Epoca: 1/5, Paso: 300/600, Perdida: 1.98549\n",
      "Epoca: 1/5, Paso: 400/600, Perdida: 1.91389\n",
      "Epoca: 1/5, Paso: 500/600, Perdida: 1.79837\n",
      "Epoca: 1/5, Paso: 600/600, Perdida: 1.82871\n",
      "Epoca: 2/5, Paso: 100/600, Perdida: 1.71765\n",
      "Epoca: 2/5, Paso: 200/600, Perdida: 1.72486\n",
      "Epoca: 2/5, Paso: 300/600, Perdida: 1.53878\n",
      "Epoca: 2/5, Paso: 400/600, Perdida: 1.54001\n",
      "Epoca: 2/5, Paso: 500/600, Perdida: 1.54258\n",
      "Epoca: 2/5, Paso: 600/600, Perdida: 1.41859\n",
      "Epoca: 3/5, Paso: 100/600, Perdida: 1.45936\n",
      "Epoca: 3/5, Paso: 200/600, Perdida: 1.39035\n",
      "Epoca: 3/5, Paso: 300/600, Perdida: 1.33599\n",
      "Epoca: 3/5, Paso: 400/600, Perdida: 1.25948\n",
      "Epoca: 3/5, Paso: 500/600, Perdida: 1.33553\n",
      "Epoca: 3/5, Paso: 600/600, Perdida: 1.19627\n",
      "Epoca: 4/5, Paso: 100/600, Perdida: 1.16898\n",
      "Epoca: 4/5, Paso: 200/600, Perdida: 1.12092\n",
      "Epoca: 4/5, Paso: 300/600, Perdida: 1.10155\n",
      "Epoca: 4/5, Paso: 400/600, Perdida: 1.08721\n",
      "Epoca: 4/5, Paso: 500/600, Perdida: 1.06619\n",
      "Epoca: 4/5, Paso: 600/600, Perdida: 1.01416\n",
      "Epoca: 5/5, Paso: 100/600, Perdida: 1.13610\n",
      "Epoca: 5/5, Paso: 200/600, Perdida: 1.14016\n",
      "Epoca: 5/5, Paso: 300/600, Perdida: 1.01884\n",
      "Epoca: 5/5, Paso: 400/600, Perdida: 1.13562\n",
      "Epoca: 5/5, Paso: 500/600, Perdida: 0.96281\n",
      "Epoca: 5/5, Paso: 600/600, Perdida: 0.98885\n"
     ]
    }
   ],
   "source": [
    "# ==================\n",
    "# Definimos modelo\n",
    "# ==================\n",
    "\n",
    "# Se define el modelo \n",
    "model = RegresionMultinomial(input_size, num_classes).to(device)\n",
    "loss_function = nn.CrossEntropyLoss()\n",
    "\n",
    "# ==================\n",
    "# Optimizacion\n",
    "# ==================\n",
    "\n",
    "# Implementa el gradiente descendiente para la optimizacion\n",
    "optimizer = torch.optim.SGD(model.parameters(), lr=lr)\n",
    "\n",
    "# Entrenamiento del modelo\n",
    "for epoch in range(num_epochs):\n",
    "  for i, (xi, yi) in enumerate(train_loader):\n",
    "    \n",
    "    # Las entradas de la imagen se convierten en vectores\n",
    "    xi = xi.reshape(-1, 28*28).to(device)# imagenes\n",
    "    yi = yi.to(device)# etiquetas\n",
    "    \n",
    "    # Propagacion para adelante\n",
    "    output = model(xi)\n",
    "    loss = loss_function(output, yi)\n",
    "    # Propagcion para atras y paso de optimizacion\n",
    "    \n",
    "    optimizer.zero_grad()\n",
    "    loss.backward()\n",
    "    optimizer.step()\n",
    "    \n",
    "    if (i+1) % 100 == 0:\n",
    "      print ('Epoca: {}/{}, Paso: {}/{}, Perdida: {:.5f}'.format(epoch+1,num_epochs, i+1, len(train_loader), loss.item()))"
   ]
  },
  {
   "cell_type": "code",
   "execution_count": 4,
   "metadata": {},
   "outputs": [
    {
     "name": "stdout",
     "output_type": "stream",
     "text": [
      "Precision del modelo en 10000 imagenes: 82.99\n"
     ]
    }
   ],
   "source": [
    "with torch.no_grad():\n",
    "  correct = 0\n",
    "  total = 0\n",
    "  for xi, yi in test_loader:\n",
    "    # Las entradas de la imagen se convierten en vectores\n",
    "    xi = xi.reshape(-1, 28*28).to(device)\n",
    "    yi = yi.to(device)\n",
    "    \n",
    "    # Se hacen las predicciones\n",
    "    output = model(xi)\n",
    "    _, predicted = torch.max(output.data, 1)\n",
    "    \n",
    "    total += yi.size(0)\n",
    "    correct += (predicted == yi).sum().item()\n",
    "    \n",
    "  print(f'Precision del modelo en {total} imagenes: {100 * correct / total}')\n",
    "\n",
    "des = []\n",
    "des.append(100 * correct / total)"
   ]
  },
  {
   "cell_type": "markdown",
   "metadata": {},
   "source": [
    "6. Incluya en su archivomodelos.pyla siguiente clase que implementa una red neuronal conuna capa escondidayactivaciones sigmoide. Rellene los comentarios."
   ]
  },
  {
   "cell_type": "code",
   "execution_count": 5,
   "metadata": {},
   "outputs": [],
   "source": [
    "class NNh1_sigm(nn.Module):\n",
    "  def __init__(self, input_size, num_classes):\n",
    "\n",
    "    super(NNh1_sigm, self).__init__()\n",
    "\n",
    "    # [COMENTARIO]\n",
    "    hidden_size = 500\n",
    "\n",
    "    # [COMENTARIO]\n",
    "    self.fc1 = nn.Linear(input_size, hidden_size)\n",
    "    self.sigmoid = nn.Sigmoid()\n",
    "    self.fc2 = nn.Linear(hidden_size, num_classes)\n",
    "\n",
    "  def forward(self, x):\n",
    "    out = self.fc1(x)\n",
    "    out = self.sigmoid(out)\n",
    "    out = self.fc2(out)\n",
    "    return out"
   ]
  },
  {
   "cell_type": "markdown",
   "metadata": {},
   "source": [
    "7. Pruebe el desempeño deRedNeuronaly compare los resultados conRegresionMultinomial."
   ]
  },
  {
   "cell_type": "code",
   "execution_count": 6,
   "metadata": {},
   "outputs": [
    {
     "name": "stdout",
     "output_type": "stream",
     "text": [
      "Epoca: 1/5, Paso: 100/600, Perdida: 2.31203\n",
      "Epoca: 1/5, Paso: 200/600, Perdida: 2.29133\n",
      "Epoca: 1/5, Paso: 300/600, Perdida: 2.29622\n",
      "Epoca: 1/5, Paso: 400/600, Perdida: 2.26429\n",
      "Epoca: 1/5, Paso: 500/600, Perdida: 2.29051\n",
      "Epoca: 1/5, Paso: 600/600, Perdida: 2.29245\n",
      "Epoca: 2/5, Paso: 100/600, Perdida: 2.27338\n",
      "Epoca: 2/5, Paso: 200/600, Perdida: 2.27621\n",
      "Epoca: 2/5, Paso: 300/600, Perdida: 2.26927\n",
      "Epoca: 2/5, Paso: 400/600, Perdida: 2.26046\n",
      "Epoca: 2/5, Paso: 500/600, Perdida: 2.26747\n",
      "Epoca: 2/5, Paso: 600/600, Perdida: 2.25818\n",
      "Epoca: 3/5, Paso: 100/600, Perdida: 2.26721\n",
      "Epoca: 3/5, Paso: 200/600, Perdida: 2.25145\n",
      "Epoca: 3/5, Paso: 300/600, Perdida: 2.24696\n",
      "Epoca: 3/5, Paso: 400/600, Perdida: 2.24338\n",
      "Epoca: 3/5, Paso: 500/600, Perdida: 2.24142\n",
      "Epoca: 3/5, Paso: 600/600, Perdida: 2.24352\n",
      "Epoca: 4/5, Paso: 100/600, Perdida: 2.24736\n",
      "Epoca: 4/5, Paso: 200/600, Perdida: 2.21941\n",
      "Epoca: 4/5, Paso: 300/600, Perdida: 2.22734\n",
      "Epoca: 4/5, Paso: 400/600, Perdida: 2.20880\n",
      "Epoca: 4/5, Paso: 500/600, Perdida: 2.21717\n",
      "Epoca: 4/5, Paso: 600/600, Perdida: 2.22543\n",
      "Epoca: 5/5, Paso: 100/600, Perdida: 2.20325\n",
      "Epoca: 5/5, Paso: 200/600, Perdida: 2.21029\n",
      "Epoca: 5/5, Paso: 300/600, Perdida: 2.20404\n",
      "Epoca: 5/5, Paso: 400/600, Perdida: 2.19139\n",
      "Epoca: 5/5, Paso: 500/600, Perdida: 2.18950\n",
      "Epoca: 5/5, Paso: 600/600, Perdida: 2.19521\n"
     ]
    }
   ],
   "source": [
    "# Se define el modelo \n",
    "model2 = NNh1_sigm(input_size, num_classes).to(device)\n",
    "loss_function = nn.CrossEntropyLoss()\n",
    "\n",
    "# ==================\n",
    "# Optimizacion\n",
    "# ==================\n",
    "\n",
    "optimizer = torch.optim.SGD(model2.parameters(), lr=lr)\n",
    "\n",
    "# Entrenamiento del modelo\n",
    "for epoch in range(num_epochs):\n",
    "  for i, (xi, yi) in enumerate(train_loader):\n",
    "    \n",
    "    xi = xi.reshape(-1, 28*28).to(device)# imagenes\n",
    "    yi = yi.to(device)# etiquetas\n",
    "    \n",
    "    # Propagacion para adelante\n",
    "    output = model2(xi)\n",
    "    loss = loss_function(output, yi)\n",
    "    # Propagcion para atras y paso de optimizacion\n",
    "    \n",
    "    optimizer.zero_grad()\n",
    "    loss.backward()\n",
    "    optimizer.step()\n",
    "    \n",
    "    if (i+1) % 100 == 0:\n",
    "      print ('Epoca: {}/{}, Paso: {}/{}, Perdida: {:.5f}'.format(epoch+1,num_epochs, i+1, len(train_loader), loss.item()))"
   ]
  },
  {
   "cell_type": "markdown",
   "metadata": {},
   "source": [
    "Probamos el desempeño del modelo"
   ]
  },
  {
   "cell_type": "code",
   "execution_count": 7,
   "metadata": {},
   "outputs": [
    {
     "name": "stdout",
     "output_type": "stream",
     "text": [
      "Precision del modelo en 10000 imagenes: 47.85\n"
     ]
    }
   ],
   "source": [
    "with torch.no_grad():\n",
    "  correct = 0\n",
    "  total = 0\n",
    "  for xi, yi in test_loader:\n",
    "    # [COMENTARIO]\n",
    "    xi = xi.reshape(-1, 28*28).to(device)\n",
    "    yi = yi.to(device)\n",
    "    \n",
    "    # [COMENTARIO]\n",
    "    output = model2(xi)\n",
    "    _, predicted = torch.max(output.data, 1)\n",
    "    \n",
    "    total += yi.size(0)\n",
    "    correct += (predicted == yi).sum().item()\n",
    "    \n",
    "  print(f'Precision del modelo en {total} imagenes: {100 * correct / total}')\n",
    "des.append(100 * correct / total)"
   ]
  },
  {
   "cell_type": "markdown",
   "metadata": {},
   "source": [
    "El desempeño es mucho peor que el que no tiene capa oculta."
   ]
  },
  {
   "cell_type": "markdown",
   "metadata": {},
   "source": [
    "8. Considere las siguientes arquitecturas de redes neuronales:\n",
    "\n",
    "a)RedNeuronal: Una capa escondida con 500 unidades (la que ya tenemos).\n"
   ]
  },
  {
   "cell_type": "markdown",
   "metadata": {},
   "source": [
    "b)RedNeuronal3: Tres capas escondidas de 500, 100 y 30 unidades.\n"
   ]
  },
  {
   "cell_type": "markdown",
   "metadata": {},
   "source": [
    "Primero definimos el modelo"
   ]
  },
  {
   "cell_type": "code",
   "execution_count": 8,
   "metadata": {},
   "outputs": [],
   "source": [
    "class NNh3_sigm(nn.Module):\n",
    "  def __init__(self, input_size, num_classes):\n",
    "\n",
    "    super(NNh3_sigm, self).__init__()\n",
    "\n",
    "    hidden_size1 = 500\n",
    "    hidden_size2 = 100\n",
    "    hidden_size3 = 30\n",
    "\n",
    "    self.fc1 = nn.Linear(input_size, hidden_size1)\n",
    "    self.fc2 = nn.Linear(hidden_size1, hidden_size2)\n",
    "    self.fc3 = nn.Linear(hidden_size2, hidden_size3)\n",
    "    self.fc4 = nn.Linear(hidden_size3, num_classes)\n",
    "    self.sigmoid = nn.Sigmoid()\n",
    "\n",
    "  def forward(self, x):\n",
    "    out = self.sigmoid(self.fc1(x))\n",
    "    out = self.sigmoid(self.fc2(out))\n",
    "    out = self.sigmoid(self.fc3(out))\n",
    "    out = self.sigmoid(self.fc4(out))\n",
    "    return out"
   ]
  },
  {
   "cell_type": "markdown",
   "metadata": {},
   "source": [
    "Ahora entrenamos el modelo"
   ]
  },
  {
   "cell_type": "code",
   "execution_count": 9,
   "metadata": {},
   "outputs": [
    {
     "name": "stdout",
     "output_type": "stream",
     "text": [
      "Epoca: 1/5, Paso: 100/600, Perdida: 2.30550\n",
      "Epoca: 1/5, Paso: 200/600, Perdida: 2.30998\n",
      "Epoca: 1/5, Paso: 300/600, Perdida: 2.29934\n",
      "Epoca: 1/5, Paso: 400/600, Perdida: 2.30140\n",
      "Epoca: 1/5, Paso: 500/600, Perdida: 2.30942\n",
      "Epoca: 1/5, Paso: 600/600, Perdida: 2.29960\n",
      "Epoca: 2/5, Paso: 100/600, Perdida: 2.30305\n",
      "Epoca: 2/5, Paso: 200/600, Perdida: 2.29799\n",
      "Epoca: 2/5, Paso: 300/600, Perdida: 2.30103\n",
      "Epoca: 2/5, Paso: 400/600, Perdida: 2.30892\n",
      "Epoca: 2/5, Paso: 500/600, Perdida: 2.31090\n",
      "Epoca: 2/5, Paso: 600/600, Perdida: 2.30416\n",
      "Epoca: 3/5, Paso: 100/600, Perdida: 2.30391\n",
      "Epoca: 3/5, Paso: 200/600, Perdida: 2.31957\n",
      "Epoca: 3/5, Paso: 300/600, Perdida: 2.30917\n",
      "Epoca: 3/5, Paso: 400/600, Perdida: 2.30333\n",
      "Epoca: 3/5, Paso: 500/600, Perdida: 2.30456\n",
      "Epoca: 3/5, Paso: 600/600, Perdida: 2.30953\n",
      "Epoca: 4/5, Paso: 100/600, Perdida: 2.30875\n",
      "Epoca: 4/5, Paso: 200/600, Perdida: 2.29871\n",
      "Epoca: 4/5, Paso: 300/600, Perdida: 2.30315\n",
      "Epoca: 4/5, Paso: 400/600, Perdida: 2.28979\n",
      "Epoca: 4/5, Paso: 500/600, Perdida: 2.30842\n",
      "Epoca: 4/5, Paso: 600/600, Perdida: 2.29938\n",
      "Epoca: 5/5, Paso: 100/600, Perdida: 2.30531\n",
      "Epoca: 5/5, Paso: 200/600, Perdida: 2.30320\n",
      "Epoca: 5/5, Paso: 300/600, Perdida: 2.29954\n",
      "Epoca: 5/5, Paso: 400/600, Perdida: 2.30225\n",
      "Epoca: 5/5, Paso: 500/600, Perdida: 2.31184\n",
      "Epoca: 5/5, Paso: 600/600, Perdida: 2.30473\n"
     ]
    }
   ],
   "source": [
    "# Se define el modelo \n",
    "model3 = NNh3_sigm(input_size, num_classes).to(device)\n",
    "loss_function = nn.CrossEntropyLoss()\n",
    "\n",
    "# ==================\n",
    "# Optimizacion\n",
    "# ==================\n",
    "\n",
    "optimizer = torch.optim.SGD(model3.parameters(), lr=lr)\n",
    "\n",
    "# Entrenamiento del modelo\n",
    "for epoch in range(num_epochs):\n",
    "  for i, (xi, yi) in enumerate(train_loader):\n",
    "    \n",
    "    xi = xi.reshape(-1, 28*28).to(device)# imagenes\n",
    "    yi = yi.to(device)# etiquetas\n",
    "    \n",
    "    # Propagacion para adelante\n",
    "    output = model3(xi)\n",
    "    loss = loss_function(output, yi)\n",
    "    # Propagcion para atras y paso de optimizacion\n",
    "    \n",
    "    optimizer.zero_grad()\n",
    "    loss.backward()\n",
    "    optimizer.step()\n",
    "    \n",
    "    if (i+1) % 100 == 0:\n",
    "      print ('Epoca: {}/{}, Paso: {}/{}, Perdida: {:.5f}'.format(epoch+1,num_epochs, i+1, len(train_loader), loss.item()))\n",
    "      \n"
   ]
  },
  {
   "cell_type": "code",
   "execution_count": 10,
   "metadata": {},
   "outputs": [
    {
     "name": "stdout",
     "output_type": "stream",
     "text": [
      "Precision del modelo en 10000 imagenes: 10.32\n"
     ]
    }
   ],
   "source": [
    "# Prueba del modelo\n",
    "# Al probar, usamos torch.no_grad() porque [COMENTARIO]\n",
    "with torch.no_grad():\n",
    "  correct = 0\n",
    "  total = 0\n",
    "  for xi, yi in test_loader:\n",
    "    # [COMENTARIO]\n",
    "    xi = xi.reshape(-1, 28*28).to(device)\n",
    "    yi = yi.to(device)\n",
    "    \n",
    "    # [COMENTARIO]\n",
    "    output = model3(xi)\n",
    "    _, predicted = torch.max(output.data, 1)\n",
    "    \n",
    "    total += yi.size(0)\n",
    "    correct += (predicted == yi).sum().item()\n",
    "    \n",
    "  print(f'Precision del modelo en {total} imagenes: {100 * correct / total}')\n",
    "des.append(100 * correct / total)"
   ]
  },
  {
   "cell_type": "markdown",
   "metadata": {},
   "source": [
    "c)RedNeuronal5: Cinco capas escondidas de 500, 300, 100, 50, 30 unidades.Experimente cómo cambia el desempeño en cada uno de estos modelos al variar las funciones de activación y eloptimizador. Al hacer esto:"
   ]
  },
  {
   "cell_type": "code",
   "execution_count": 11,
   "metadata": {},
   "outputs": [],
   "source": [
    "class NNh5_sigm(nn.Module):\n",
    "  def __init__(self, input_size, num_classes):\n",
    "\n",
    "    super(NNh5_sigm, self).__init__()\n",
    "\n",
    "    hidden_size1 = 500\n",
    "    hidden_size2 = 300\n",
    "    hidden_size3 = 100\n",
    "    hidden_size4 = 50\n",
    "    hidden_size5 = 30\n",
    "\n",
    "    self.fc1 = nn.Linear(input_size, hidden_size1)\n",
    "    self.fc2 = nn.Linear(hidden_size1, hidden_size2)\n",
    "    self.fc3 = nn.Linear(hidden_size2, hidden_size3)\n",
    "    self.fc4 = nn.Linear(hidden_size3, hidden_size4)\n",
    "    self.fc5 = nn.Linear(hidden_size4, hidden_size5)\n",
    "    self.fc6 = nn.Linear(hidden_size5, num_classes)\n",
    "    self.sigmoid = nn.Sigmoid()\n",
    "\n",
    "  def forward(self, x):\n",
    "    out = self.sigmoid(self.fc1(x))\n",
    "    out = self.sigmoid(self.fc2(out))\n",
    "    out = self.sigmoid(self.fc3(out))\n",
    "    out = self.sigmoid(self.fc4(out))\n",
    "    out = self.sigmoid(self.fc5(out))\n",
    "    out = self.sigmoid(self.fc6(out))\n",
    "    return out\n",
    "\n",
    "  "
   ]
  },
  {
   "cell_type": "code",
   "execution_count": 12,
   "metadata": {},
   "outputs": [
    {
     "name": "stdout",
     "output_type": "stream",
     "text": [
      "Epoca: 1/5, Paso: 100/600, Perdida: 2.30082\n",
      "Epoca: 1/5, Paso: 200/600, Perdida: 2.30114\n",
      "Epoca: 1/5, Paso: 300/600, Perdida: 2.31952\n",
      "Epoca: 1/5, Paso: 400/600, Perdida: 2.29803\n",
      "Epoca: 1/5, Paso: 500/600, Perdida: 2.30280\n",
      "Epoca: 1/5, Paso: 600/600, Perdida: 2.30707\n",
      "Epoca: 2/5, Paso: 100/600, Perdida: 2.30654\n",
      "Epoca: 2/5, Paso: 200/600, Perdida: 2.30333\n",
      "Epoca: 2/5, Paso: 300/600, Perdida: 2.30372\n",
      "Epoca: 2/5, Paso: 400/600, Perdida: 2.31257\n",
      "Epoca: 2/5, Paso: 500/600, Perdida: 2.31748\n",
      "Epoca: 2/5, Paso: 600/600, Perdida: 2.30962\n",
      "Epoca: 3/5, Paso: 100/600, Perdida: 2.28999\n",
      "Epoca: 3/5, Paso: 200/600, Perdida: 2.30612\n",
      "Epoca: 3/5, Paso: 300/600, Perdida: 2.30869\n",
      "Epoca: 3/5, Paso: 400/600, Perdida: 2.31377\n",
      "Epoca: 3/5, Paso: 500/600, Perdida: 2.30172\n",
      "Epoca: 3/5, Paso: 600/600, Perdida: 2.32078\n",
      "Epoca: 4/5, Paso: 100/600, Perdida: 2.30664\n",
      "Epoca: 4/5, Paso: 200/600, Perdida: 2.30103\n",
      "Epoca: 4/5, Paso: 300/600, Perdida: 2.30953\n",
      "Epoca: 4/5, Paso: 400/600, Perdida: 2.31692\n",
      "Epoca: 4/5, Paso: 500/600, Perdida: 2.29758\n",
      "Epoca: 4/5, Paso: 600/600, Perdida: 2.31104\n",
      "Epoca: 5/5, Paso: 100/600, Perdida: 2.30177\n",
      "Epoca: 5/5, Paso: 200/600, Perdida: 2.30352\n",
      "Epoca: 5/5, Paso: 300/600, Perdida: 2.30723\n",
      "Epoca: 5/5, Paso: 400/600, Perdida: 2.30299\n",
      "Epoca: 5/5, Paso: 500/600, Perdida: 2.30443\n",
      "Epoca: 5/5, Paso: 600/600, Perdida: 2.31527\n"
     ]
    }
   ],
   "source": [
    "model4 = NNh5_sigm(input_size, num_classes).to(device)\n",
    "loss_function = nn.CrossEntropyLoss()\n",
    "\n",
    "# ==================\n",
    "# Optimizacion\n",
    "# ==================\n",
    "\n",
    "# [COMENTARIO]\n",
    "optimizer = torch.optim.SGD(model4.parameters(), lr=lr)\n",
    "\n",
    "# Entrenamiento del modelo\n",
    "for epoch in range(num_epochs):\n",
    "  for i, (xi, yi) in enumerate(train_loader):\n",
    "    \n",
    "    # [COMENTARIO]\n",
    "    xi = xi.reshape(-1, 28*28).to(device)# imagenes\n",
    "    yi = yi.to(device)# etiquetas\n",
    "    \n",
    "    # Propagacion para adelante\n",
    "    output = model4(xi)\n",
    "    loss = loss_function(output, yi)\n",
    "    # Propagcion para atras y paso de optimizacion\n",
    "    \n",
    "    optimizer.zero_grad()\n",
    "    loss.backward()\n",
    "    optimizer.step()\n",
    "    \n",
    "    if (i+1) % 100 == 0:\n",
    "      print ('Epoca: {}/{}, Paso: {}/{}, Perdida: {:.5f}'.format(epoch+1,num_epochs, i+1, len(train_loader), loss.item()))\n"
   ]
  },
  {
   "cell_type": "code",
   "execution_count": 13,
   "metadata": {},
   "outputs": [
    {
     "name": "stdout",
     "output_type": "stream",
     "text": [
      "Precision del modelo en 10000 imagenes: 9.8\n"
     ]
    }
   ],
   "source": [
    "# Prueba del modelo\n",
    "with torch.no_grad():\n",
    "  correct = 0\n",
    "  total = 0\n",
    "  for xi, yi in test_loader:\n",
    "    # [COMENTARIO]\n",
    "    xi = xi.reshape(-1, 28*28).to(device)\n",
    "    yi = yi.to(device)\n",
    "    \n",
    "    # [COMENTARIO]\n",
    "    output = model4(xi)\n",
    "    _, predicted = torch.max(output.data, 1)\n",
    "    \n",
    "    total += yi.size(0)\n",
    "    correct += (predicted == yi).sum().item()\n",
    "    \n",
    "  print(f'Precision del modelo en {total} imagenes: {100 * correct / total}')\n",
    "des.append(100 * correct / total)"
   ]
  },
  {
   "cell_type": "markdown",
   "metadata": {},
   "source": [
    "Experimente cómo cambia el desempeño en cada uno de estos modelos al variar las funciones de activación y el\n",
    "optimizador."
   ]
  },
  {
   "cell_type": "markdown",
   "metadata": {},
   "source": [
    "Primero definamos la red on una capa escondida *ReLu*"
   ]
  },
  {
   "cell_type": "code",
   "execution_count": 14,
   "metadata": {},
   "outputs": [],
   "source": [
    "class NNh1_relu(nn.Module):\n",
    "  def __init__(self, input_size, num_classes):\n",
    "\n",
    "    super(NNh1_relu, self).__init__()\n",
    "\n",
    "    hidden_size = 500\n",
    "\n",
    "    self.fc1 = nn.Linear(input_size, hidden_size)\n",
    "    self.relu = nn.ReLU()\n",
    "    self.fc2 = nn.Linear(hidden_size, num_classes)\n",
    "\n",
    "  def forward(self, x):\n",
    "    out = self.fc1(x)\n",
    "    out = self.relu(out)\n",
    "    out = self.fc2(out)\n",
    "    return out"
   ]
  },
  {
   "cell_type": "markdown",
   "metadata": {},
   "source": [
    "Ahora entrenemos el modelo"
   ]
  },
  {
   "cell_type": "code",
   "execution_count": 15,
   "metadata": {},
   "outputs": [
    {
     "name": "stdout",
     "output_type": "stream",
     "text": [
      "Epoca: 1/5, Paso: 100/600, Perdida: 2.27688\n",
      "Epoca: 1/5, Paso: 200/600, Perdida: 2.25788\n",
      "Epoca: 1/5, Paso: 300/600, Perdida: 2.24187\n",
      "Epoca: 1/5, Paso: 400/600, Perdida: 2.21653\n",
      "Epoca: 1/5, Paso: 500/600, Perdida: 2.19121\n",
      "Epoca: 1/5, Paso: 600/600, Perdida: 2.18727\n",
      "Epoca: 2/5, Paso: 100/600, Perdida: 2.14241\n",
      "Epoca: 2/5, Paso: 200/600, Perdida: 2.13404\n",
      "Epoca: 2/5, Paso: 300/600, Perdida: 2.09911\n",
      "Epoca: 2/5, Paso: 400/600, Perdida: 2.06877\n",
      "Epoca: 2/5, Paso: 500/600, Perdida: 2.07198\n",
      "Epoca: 2/5, Paso: 600/600, Perdida: 2.00438\n",
      "Epoca: 3/5, Paso: 100/600, Perdida: 1.96570\n",
      "Epoca: 3/5, Paso: 200/600, Perdida: 1.94888\n",
      "Epoca: 3/5, Paso: 300/600, Perdida: 1.90564\n",
      "Epoca: 3/5, Paso: 400/600, Perdida: 1.89386\n",
      "Epoca: 3/5, Paso: 500/600, Perdida: 1.85003\n",
      "Epoca: 3/5, Paso: 600/600, Perdida: 1.81501\n",
      "Epoca: 4/5, Paso: 100/600, Perdida: 1.74580\n",
      "Epoca: 4/5, Paso: 200/600, Perdida: 1.72433\n",
      "Epoca: 4/5, Paso: 300/600, Perdida: 1.78170\n",
      "Epoca: 4/5, Paso: 400/600, Perdida: 1.62418\n",
      "Epoca: 4/5, Paso: 500/600, Perdida: 1.67674\n",
      "Epoca: 4/5, Paso: 600/600, Perdida: 1.62160\n",
      "Epoca: 5/5, Paso: 100/600, Perdida: 1.60137\n",
      "Epoca: 5/5, Paso: 200/600, Perdida: 1.50576\n",
      "Epoca: 5/5, Paso: 300/600, Perdida: 1.56279\n",
      "Epoca: 5/5, Paso: 400/600, Perdida: 1.47336\n",
      "Epoca: 5/5, Paso: 500/600, Perdida: 1.48461\n",
      "Epoca: 5/5, Paso: 600/600, Perdida: 1.38327\n"
     ]
    }
   ],
   "source": [
    "model5 = NNh1_relu(input_size, num_classes).to(device)\n",
    "loss_function = nn.CrossEntropyLoss()\n",
    "\n",
    "optimizer = torch.optim.SGD(model5.parameters(), lr=lr)\n",
    "\n",
    "for epoch in range(num_epochs):\n",
    "  for i, (xi, yi) in enumerate(train_loader):\n",
    "    \n",
    "    xi = xi.reshape(-1, 28*28).to(device)# imagenes\n",
    "    yi = yi.to(device)# etiquetas\n",
    "    \n",
    "    # Propagacion para adelante\n",
    "    output = model5(xi)\n",
    "    loss = loss_function(output, yi)\n",
    "    # Propagcion para atras y paso de optimizacion\n",
    "    \n",
    "    optimizer.zero_grad()\n",
    "    loss.backward()\n",
    "    optimizer.step()\n",
    "    \n",
    "    if (i+1) % 100 == 0:\n",
    "      print ('Epoca: {}/{}, Paso: {}/{}, Perdida: {:.5f}'.format(epoch+1,num_epochs, i+1, len(train_loader), loss.item()))"
   ]
  },
  {
   "cell_type": "code",
   "execution_count": 16,
   "metadata": {},
   "outputs": [
    {
     "name": "stdout",
     "output_type": "stream",
     "text": [
      "Precision del modelo en 10000 imagenes: 78.87\n"
     ]
    }
   ],
   "source": [
    "# Prueba del modelo\n",
    "with torch.no_grad():\n",
    "  correct = 0\n",
    "  total = 0\n",
    "  for xi, yi in test_loader:\n",
    "    # [COMENTARIO]\n",
    "    xi = xi.reshape(-1, 28*28).to(device)\n",
    "    yi = yi.to(device)\n",
    "    \n",
    "    # [COMENTARIO]\n",
    "    output = model5(xi)\n",
    "    _, predicted = torch.max(output.data, 1)\n",
    "    \n",
    "    total += yi.size(0)\n",
    "    correct += (predicted == yi).sum().item()\n",
    "    \n",
    "  print(f'Precision del modelo en {total} imagenes: {100 * correct / total}')\n",
    "des.append(100 * correct / total)"
   ]
  },
  {
   "cell_type": "markdown",
   "metadata": {},
   "source": [
    "Ahora definamos el modelo Relu con 3 capas"
   ]
  },
  {
   "cell_type": "code",
   "execution_count": 17,
   "metadata": {},
   "outputs": [],
   "source": [
    "class NNh3_relu(nn.Module):\n",
    "  def __init__(self, input_size, num_classes):\n",
    "\n",
    "    super(NNh3_relu, self).__init__()\n",
    "\n",
    "    hidden_size1 = 500\n",
    "    hidden_size2 = 100\n",
    "    hidden_size3 = 30\n",
    "\n",
    "    self.fc1 = nn.Linear(input_size, hidden_size1)\n",
    "    self.fc2 = nn.Linear(hidden_size1, hidden_size2)\n",
    "    self.fc3 = nn.Linear(hidden_size2, hidden_size3)\n",
    "    self.fc4 = nn.Linear(hidden_size3, num_classes)\n",
    "    self.relu = nn.ReLU()\n",
    "\n",
    "  def forward(self, x):\n",
    "    out = self.relu(self.fc1(x))\n",
    "    out = self.relu(self.fc2(out))\n",
    "    out = self.relu(self.fc3(out))\n",
    "    out = self.relu(self.fc4(out))\n",
    "    return out\n"
   ]
  },
  {
   "cell_type": "markdown",
   "metadata": {},
   "source": [
    "Entrenando el modelo"
   ]
  },
  {
   "cell_type": "code",
   "execution_count": 18,
   "metadata": {},
   "outputs": [
    {
     "name": "stdout",
     "output_type": "stream",
     "text": [
      "Epoca: 1/5, Paso: 100/600, Perdida: 2.27627\n",
      "Epoca: 1/5, Paso: 200/600, Perdida: 2.24886\n",
      "Epoca: 1/5, Paso: 300/600, Perdida: 2.23952\n",
      "Epoca: 1/5, Paso: 400/600, Perdida: 2.21438\n",
      "Epoca: 1/5, Paso: 500/600, Perdida: 2.17392\n",
      "Epoca: 1/5, Paso: 600/600, Perdida: 2.15611\n",
      "Epoca: 2/5, Paso: 100/600, Perdida: 2.13888\n",
      "Epoca: 2/5, Paso: 200/600, Perdida: 2.10315\n",
      "Epoca: 2/5, Paso: 300/600, Perdida: 2.10900\n",
      "Epoca: 2/5, Paso: 400/600, Perdida: 2.04991\n",
      "Epoca: 2/5, Paso: 500/600, Perdida: 1.99730\n",
      "Epoca: 2/5, Paso: 600/600, Perdida: 1.98222\n",
      "Epoca: 3/5, Paso: 100/600, Perdida: 1.98620\n",
      "Epoca: 3/5, Paso: 200/600, Perdida: 1.94729\n",
      "Epoca: 3/5, Paso: 300/600, Perdida: 1.88226\n",
      "Epoca: 3/5, Paso: 400/600, Perdida: 1.90294\n",
      "Epoca: 3/5, Paso: 500/600, Perdida: 1.85093\n",
      "Epoca: 3/5, Paso: 600/600, Perdida: 1.76596\n",
      "Epoca: 4/5, Paso: 100/600, Perdida: 1.73971\n",
      "Epoca: 4/5, Paso: 200/600, Perdida: 1.76559\n",
      "Epoca: 4/5, Paso: 300/600, Perdida: 1.72703\n",
      "Epoca: 4/5, Paso: 400/600, Perdida: 1.65808\n",
      "Epoca: 4/5, Paso: 500/600, Perdida: 1.63011\n",
      "Epoca: 4/5, Paso: 600/600, Perdida: 1.57422\n",
      "Epoca: 5/5, Paso: 100/600, Perdida: 1.54173\n",
      "Epoca: 5/5, Paso: 200/600, Perdida: 1.50620\n",
      "Epoca: 5/5, Paso: 300/600, Perdida: 1.53278\n",
      "Epoca: 5/5, Paso: 400/600, Perdida: 1.42299\n",
      "Epoca: 5/5, Paso: 500/600, Perdida: 1.48544\n",
      "Epoca: 5/5, Paso: 600/600, Perdida: 1.37373\n"
     ]
    }
   ],
   "source": [
    "model6 = NNh1_relu(input_size, num_classes).to(device)\n",
    "loss_function = nn.CrossEntropyLoss()\n",
    "\n",
    "optimizer = torch.optim.SGD(model6.parameters(), lr=lr)\n",
    "\n",
    "for epoch in range(num_epochs):\n",
    "  for i, (xi, yi) in enumerate(train_loader):\n",
    "    \n",
    "    xi = xi.reshape(-1, 28*28).to(device)# imagenes\n",
    "    yi = yi.to(device)# etiquetas\n",
    "    \n",
    "    # Propagacion para adelante\n",
    "    output = model6(xi)\n",
    "    loss = loss_function(output, yi)\n",
    "    # Propagcion para atras y paso de optimizacion\n",
    "    \n",
    "    optimizer.zero_grad()\n",
    "    loss.backward()\n",
    "    optimizer.step()\n",
    "    \n",
    "    if (i+1) % 100 == 0:\n",
    "      print ('Epoca: {}/{}, Paso: {}/{}, Perdida: {:.5f}'.format(epoch+1,num_epochs, i+1, len(train_loader), loss.item()))"
   ]
  },
  {
   "cell_type": "markdown",
   "metadata": {},
   "source": [
    "Ahora probamos el modelo"
   ]
  },
  {
   "cell_type": "code",
   "execution_count": 19,
   "metadata": {},
   "outputs": [
    {
     "name": "stdout",
     "output_type": "stream",
     "text": [
      "Precision del modelo en 10000 imagenes: 77.61\n"
     ]
    }
   ],
   "source": [
    "with torch.no_grad():\n",
    "  correct = 0\n",
    "  total = 0\n",
    "  for xi, yi in test_loader:\n",
    "\n",
    "    xi = xi.reshape(-1, 28*28).to(device)\n",
    "    yi = yi.to(device)\n",
    "    \n",
    "    output = model6(xi)\n",
    "    _, predicted = torch.max(output.data, 1)\n",
    "    \n",
    "    total += yi.size(0)\n",
    "    correct += (predicted == yi).sum().item()\n",
    "    \n",
    "  print(f'Precision del modelo en {total} imagenes: {100 * correct / total}')\n",
    "des.append(100 * correct / total)"
   ]
  },
  {
   "cell_type": "markdown",
   "metadata": {},
   "source": [
    "Por último hacemos el modela con 5 capas Relu"
   ]
  },
  {
   "cell_type": "code",
   "execution_count": 20,
   "metadata": {},
   "outputs": [],
   "source": [
    "class NNh5_relu(nn.Module):\n",
    "  def __init__(self, input_size, num_classes):\n",
    "\n",
    "    super(NNh5_relu, self).__init__()\n",
    "\n",
    "    hidden_size1 = 500\n",
    "    hidden_size2 = 300\n",
    "    hidden_size3 = 100\n",
    "    hidden_size4 = 50\n",
    "    hidden_size5 = 30\n",
    "\n",
    "    self.fc1 = nn.Linear(input_size, hidden_size1)\n",
    "    self.fc2 = nn.Linear(hidden_size1, hidden_size2)\n",
    "    self.fc3 = nn.Linear(hidden_size2, hidden_size3)\n",
    "    self.fc4 = nn.Linear(hidden_size3, hidden_size4)\n",
    "    self.fc5 = nn.Linear(hidden_size4, hidden_size5)\n",
    "    self.fc6 = nn.Linear(hidden_size5, num_classes)\n",
    "    self.relu = nn.ReLU()\n",
    "\n",
    "  def forward(self, x):\n",
    "    out = self.relu(self.fc1(x))\n",
    "    out = self.relu(self.fc2(out))\n",
    "    out = self.relu(self.fc3(out))\n",
    "    out = self.relu(self.fc4(out))\n",
    "    out = self.relu(self.fc5(out))\n",
    "    out = self.relu(self.fc6(out))\n",
    "    return out"
   ]
  },
  {
   "cell_type": "code",
   "execution_count": 21,
   "metadata": {},
   "outputs": [
    {
     "name": "stdout",
     "output_type": "stream",
     "text": [
      "Epoca: 1/5, Paso: 100/600, Perdida: 2.27134\n",
      "Epoca: 1/5, Paso: 200/600, Perdida: 2.23667\n",
      "Epoca: 1/5, Paso: 300/600, Perdida: 2.21992\n",
      "Epoca: 1/5, Paso: 400/600, Perdida: 2.18641\n",
      "Epoca: 1/5, Paso: 500/600, Perdida: 2.18784\n",
      "Epoca: 1/5, Paso: 600/600, Perdida: 2.15874\n",
      "Epoca: 2/5, Paso: 100/600, Perdida: 2.10500\n",
      "Epoca: 2/5, Paso: 200/600, Perdida: 2.08809\n",
      "Epoca: 2/5, Paso: 300/600, Perdida: 2.07441\n",
      "Epoca: 2/5, Paso: 400/600, Perdida: 2.04522\n",
      "Epoca: 2/5, Paso: 500/600, Perdida: 2.01776\n",
      "Epoca: 2/5, Paso: 600/600, Perdida: 1.99687\n",
      "Epoca: 3/5, Paso: 100/600, Perdida: 1.96758\n",
      "Epoca: 3/5, Paso: 200/600, Perdida: 1.91721\n",
      "Epoca: 3/5, Paso: 300/600, Perdida: 1.84037\n",
      "Epoca: 3/5, Paso: 400/600, Perdida: 1.83713\n",
      "Epoca: 3/5, Paso: 500/600, Perdida: 1.80482\n",
      "Epoca: 3/5, Paso: 600/600, Perdida: 1.75502\n",
      "Epoca: 4/5, Paso: 100/600, Perdida: 1.72608\n",
      "Epoca: 4/5, Paso: 200/600, Perdida: 1.69696\n",
      "Epoca: 4/5, Paso: 300/600, Perdida: 1.73047\n",
      "Epoca: 4/5, Paso: 400/600, Perdida: 1.68377\n",
      "Epoca: 4/5, Paso: 500/600, Perdida: 1.56398\n",
      "Epoca: 4/5, Paso: 600/600, Perdida: 1.64487\n",
      "Epoca: 5/5, Paso: 100/600, Perdida: 1.39767\n",
      "Epoca: 5/5, Paso: 200/600, Perdida: 1.52575\n",
      "Epoca: 5/5, Paso: 300/600, Perdida: 1.48958\n",
      "Epoca: 5/5, Paso: 400/600, Perdida: 1.43929\n",
      "Epoca: 5/5, Paso: 500/600, Perdida: 1.37014\n",
      "Epoca: 5/5, Paso: 600/600, Perdida: 1.39541\n"
     ]
    }
   ],
   "source": [
    "model7 = NNh1_relu(input_size, num_classes).to(device)\n",
    "loss_function = nn.CrossEntropyLoss()\n",
    "\n",
    "optimizer = torch.optim.SGD(model7.parameters(), lr=lr)\n",
    "\n",
    "for epoch in range(num_epochs):\n",
    "  for i, (xi, yi) in enumerate(train_loader):\n",
    "    \n",
    "    xi = xi.reshape(-1, 28*28).to(device)# imagenes\n",
    "    yi = yi.to(device)# etiquetas\n",
    "    \n",
    "    # Propagacion para adelante\n",
    "    output = model7(xi)\n",
    "    loss = loss_function(output, yi)\n",
    "    # Propagcion para atras y paso de optimizacion\n",
    "    \n",
    "    optimizer.zero_grad()\n",
    "    loss.backward()\n",
    "    optimizer.step()\n",
    "    \n",
    "    if (i+1) % 100 == 0:\n",
    "      print ('Epoca: {}/{}, Paso: {}/{}, Perdida: {:.5f}'.format(epoch+1,num_epochs, i+1, len(train_loader), loss.item()))"
   ]
  },
  {
   "cell_type": "markdown",
   "metadata": {},
   "source": [
    "Probando el modelo tenemos"
   ]
  },
  {
   "cell_type": "code",
   "execution_count": 22,
   "metadata": {},
   "outputs": [
    {
     "name": "stdout",
     "output_type": "stream",
     "text": [
      "Precision del modelo en 10000 imagenes: 78.6\n"
     ]
    }
   ],
   "source": [
    "with torch.no_grad():\n",
    "  correct = 0\n",
    "  total = 0\n",
    "  for xi, yi in test_loader:\n",
    "\n",
    "    xi = xi.reshape(-1, 28*28).to(device)\n",
    "    yi = yi.to(device)\n",
    "    \n",
    "    output = model7(xi)\n",
    "    _, predicted = torch.max(output.data, 1)\n",
    "    \n",
    "    total += yi.size(0)\n",
    "    correct += (predicted == yi).sum().item()\n",
    "    \n",
    "  print(f'Precision del modelo en {total} imagenes: {100 * correct / total}')\n",
    "des.append(100 * correct / total)"
   ]
  },
  {
   "cell_type": "markdown",
   "metadata": {},
   "source": [
    "## Optimizador Adam\n",
    "\n",
    "Ahora repetiremos todos los modelos usando el optimizador Adam"
   ]
  },
  {
   "cell_type": "markdown",
   "metadata": {},
   "source": [
    "Empezemos con el modelo sigmoide con una capa."
   ]
  },
  {
   "cell_type": "code",
   "execution_count": 23,
   "metadata": {},
   "outputs": [
    {
     "name": "stdout",
     "output_type": "stream",
     "text": [
      "Epoca: 1/5, Paso: 100/600, Perdida: 0.66358\n",
      "Epoca: 1/5, Paso: 200/600, Perdida: 0.56238\n",
      "Epoca: 1/5, Paso: 300/600, Perdida: 0.27439\n",
      "Epoca: 1/5, Paso: 400/600, Perdida: 0.29400\n",
      "Epoca: 1/5, Paso: 500/600, Perdida: 0.30128\n",
      "Epoca: 1/5, Paso: 600/600, Perdida: 0.27880\n",
      "Epoca: 2/5, Paso: 100/600, Perdida: 0.25165\n",
      "Epoca: 2/5, Paso: 200/600, Perdida: 0.34994\n",
      "Epoca: 2/5, Paso: 300/600, Perdida: 0.19403\n",
      "Epoca: 2/5, Paso: 400/600, Perdida: 0.25854\n",
      "Epoca: 2/5, Paso: 500/600, Perdida: 0.30435\n",
      "Epoca: 2/5, Paso: 600/600, Perdida: 0.24591\n",
      "Epoca: 3/5, Paso: 100/600, Perdida: 0.17219\n",
      "Epoca: 3/5, Paso: 200/600, Perdida: 0.16473\n",
      "Epoca: 3/5, Paso: 300/600, Perdida: 0.13085\n",
      "Epoca: 3/5, Paso: 400/600, Perdida: 0.25156\n",
      "Epoca: 3/5, Paso: 500/600, Perdida: 0.27530\n",
      "Epoca: 3/5, Paso: 600/600, Perdida: 0.13669\n",
      "Epoca: 4/5, Paso: 100/600, Perdida: 0.19306\n",
      "Epoca: 4/5, Paso: 200/600, Perdida: 0.13618\n",
      "Epoca: 4/5, Paso: 300/600, Perdida: 0.07877\n",
      "Epoca: 4/5, Paso: 400/600, Perdida: 0.11102\n",
      "Epoca: 4/5, Paso: 500/600, Perdida: 0.09916\n",
      "Epoca: 4/5, Paso: 600/600, Perdida: 0.19344\n",
      "Epoca: 5/5, Paso: 100/600, Perdida: 0.02660\n",
      "Epoca: 5/5, Paso: 200/600, Perdida: 0.05223\n",
      "Epoca: 5/5, Paso: 300/600, Perdida: 0.08831\n",
      "Epoca: 5/5, Paso: 400/600, Perdida: 0.11772\n",
      "Epoca: 5/5, Paso: 500/600, Perdida: 0.08833\n",
      "Epoca: 5/5, Paso: 600/600, Perdida: 0.18765\n"
     ]
    }
   ],
   "source": [
    "model8 = NNh1_sigm(input_size, num_classes).to(device)\n",
    "loss_function = nn.CrossEntropyLoss()\n",
    "optimizer = torch.optim.Adam(model8.parameters(), lr=lr)\n",
    "\n",
    "for epoch in range(num_epochs):\n",
    "  for i, (xi, yi) in enumerate(train_loader):\n",
    "    \n",
    "    xi = xi.reshape(-1, 28*28).to(device)# imagenes\n",
    "    yi = yi.to(device)# etiquetas\n",
    "    \n",
    "    output = model8(xi)\n",
    "    loss = loss_function(output, yi)\n",
    "    \n",
    "    optimizer.zero_grad()\n",
    "    loss.backward()\n",
    "    optimizer.step()\n",
    "    \n",
    "    if (i+1) % 100 == 0:\n",
    "      print ('Epoca: {}/{}, Paso: {}/{}, Perdida: {:.5f}'.format(epoch+1,num_epochs, i+1, len(train_loader), loss.item()))"
   ]
  },
  {
   "cell_type": "markdown",
   "metadata": {},
   "source": [
    "En este caso el desempeño es"
   ]
  },
  {
   "cell_type": "code",
   "execution_count": 24,
   "metadata": {},
   "outputs": [
    {
     "name": "stdout",
     "output_type": "stream",
     "text": [
      "Precision del modelo en 10000 imagenes: 96.77\n"
     ]
    }
   ],
   "source": [
    "with torch.no_grad():\n",
    "  correct = 0\n",
    "  total = 0\n",
    "  for xi, yi in test_loader:\n",
    "    # [COMENTARIO]\n",
    "    xi = xi.reshape(-1, 28*28).to(device)\n",
    "    yi = yi.to(device)\n",
    "    \n",
    "    # [COMENTARIO]\n",
    "    output = model8(xi)\n",
    "    _, predicted = torch.max(output.data, 1)\n",
    "    \n",
    "    total += yi.size(0)\n",
    "    correct += (predicted == yi).sum().item()\n",
    "    \n",
    "  print(f'Precision del modelo en {total} imagenes: {100 * correct / total}')\n",
    "des.append(100 * correct / total)"
   ]
  },
  {
   "cell_type": "markdown",
   "metadata": {},
   "source": [
    "Usando el modelo sigmoide de tres capas tenemos"
   ]
  },
  {
   "cell_type": "code",
   "execution_count": 25,
   "metadata": {},
   "outputs": [
    {
     "name": "stdout",
     "output_type": "stream",
     "text": [
      "Epoca: 1/5, Paso: 100/600, Perdida: 2.13491\n",
      "Epoca: 1/5, Paso: 200/600, Perdida: 1.95828\n",
      "Epoca: 1/5, Paso: 300/600, Perdida: 1.81936\n",
      "Epoca: 1/5, Paso: 400/600, Perdida: 1.81758\n",
      "Epoca: 1/5, Paso: 500/600, Perdida: 1.77828\n",
      "Epoca: 1/5, Paso: 600/600, Perdida: 1.70155\n",
      "Epoca: 2/5, Paso: 100/600, Perdida: 1.69314\n",
      "Epoca: 2/5, Paso: 200/600, Perdida: 1.71692\n",
      "Epoca: 2/5, Paso: 300/600, Perdida: 1.69198\n",
      "Epoca: 2/5, Paso: 400/600, Perdida: 1.65289\n",
      "Epoca: 2/5, Paso: 500/600, Perdida: 1.67520\n",
      "Epoca: 2/5, Paso: 600/600, Perdida: 1.66525\n",
      "Epoca: 3/5, Paso: 100/600, Perdida: 1.63010\n",
      "Epoca: 3/5, Paso: 200/600, Perdida: 1.65130\n",
      "Epoca: 3/5, Paso: 300/600, Perdida: 1.63776\n",
      "Epoca: 3/5, Paso: 400/600, Perdida: 1.61475\n",
      "Epoca: 3/5, Paso: 500/600, Perdida: 1.59816\n",
      "Epoca: 3/5, Paso: 600/600, Perdida: 1.62798\n",
      "Epoca: 4/5, Paso: 100/600, Perdida: 1.60368\n",
      "Epoca: 4/5, Paso: 200/600, Perdida: 1.59897\n",
      "Epoca: 4/5, Paso: 300/600, Perdida: 1.59199\n",
      "Epoca: 4/5, Paso: 400/600, Perdida: 1.61636\n",
      "Epoca: 4/5, Paso: 500/600, Perdida: 1.61696\n",
      "Epoca: 4/5, Paso: 600/600, Perdida: 1.61844\n",
      "Epoca: 5/5, Paso: 100/600, Perdida: 1.60946\n",
      "Epoca: 5/5, Paso: 200/600, Perdida: 1.59652\n",
      "Epoca: 5/5, Paso: 300/600, Perdida: 1.59371\n",
      "Epoca: 5/5, Paso: 400/600, Perdida: 1.57804\n",
      "Epoca: 5/5, Paso: 500/600, Perdida: 1.60289\n",
      "Epoca: 5/5, Paso: 600/600, Perdida: 1.58106\n"
     ]
    }
   ],
   "source": [
    "model9 = NNh3_sigm(input_size, num_classes).to(device)\n",
    "loss_function = nn.CrossEntropyLoss()\n",
    "\n",
    "optimizer = torch.optim.Adam(model9.parameters(), lr=lr)\n",
    "\n",
    "for epoch in range(num_epochs):\n",
    "  for i, (xi, yi) in enumerate(train_loader):\n",
    "    \n",
    "    xi = xi.reshape(-1, 28*28).to(device)# imagenes\n",
    "    yi = yi.to(device)# etiquetas\n",
    "    \n",
    "    output = model9(xi)\n",
    "    loss = loss_function(output, yi)\n",
    "    \n",
    "    optimizer.zero_grad()\n",
    "    loss.backward()\n",
    "    optimizer.step()\n",
    "    \n",
    "    if (i+1) % 100 == 0:\n",
    "      print ('Epoca: {}/{}, Paso: {}/{}, Perdida: {:.5f}'.format(epoch+1,num_epochs, i+1, len(train_loader), loss.item()))\n",
    "      "
   ]
  },
  {
   "cell_type": "code",
   "execution_count": 26,
   "metadata": {},
   "outputs": [
    {
     "name": "stdout",
     "output_type": "stream",
     "text": [
      "Precision del modelo en 10000 imagenes: 68.83\n"
     ]
    }
   ],
   "source": [
    "with torch.no_grad():\n",
    "  correct = 0\n",
    "  total = 0\n",
    "  for xi, yi in test_loader:\n",
    "    # [COMENTARIO]\n",
    "    xi = xi.reshape(-1, 28*28).to(device)\n",
    "    yi = yi.to(device)\n",
    "    \n",
    "    # [COMENTARIO]\n",
    "    output = model9(xi)\n",
    "    _, predicted = torch.max(output.data, 1)\n",
    "    \n",
    "    total += yi.size(0)\n",
    "    correct += (predicted == yi).sum().item()\n",
    "    \n",
    "  print(f'Precision del modelo en {total} imagenes: {100 * correct / total}')\n",
    "des.append(100 * correct / total)"
   ]
  },
  {
   "cell_type": "markdown",
   "metadata": {},
   "source": [
    "Ahora veamos el modelo sigmoide con 5 capas ocultas"
   ]
  },
  {
   "cell_type": "code",
   "execution_count": 27,
   "metadata": {},
   "outputs": [
    {
     "name": "stdout",
     "output_type": "stream",
     "text": [
      "Epoca: 1/5, Paso: 100/600, Perdida: 2.24269\n",
      "Epoca: 1/5, Paso: 200/600, Perdida: 2.06630\n",
      "Epoca: 1/5, Paso: 300/600, Perdida: 2.00658\n",
      "Epoca: 1/5, Paso: 400/600, Perdida: 1.98509\n",
      "Epoca: 1/5, Paso: 500/600, Perdida: 1.98819\n",
      "Epoca: 1/5, Paso: 600/600, Perdida: 1.98372\n",
      "Epoca: 2/5, Paso: 100/600, Perdida: 1.99126\n",
      "Epoca: 2/5, Paso: 200/600, Perdida: 1.95759\n",
      "Epoca: 2/5, Paso: 300/600, Perdida: 1.95844\n",
      "Epoca: 2/5, Paso: 400/600, Perdida: 1.93538\n",
      "Epoca: 2/5, Paso: 500/600, Perdida: 1.90593\n",
      "Epoca: 2/5, Paso: 600/600, Perdida: 1.95324\n",
      "Epoca: 3/5, Paso: 100/600, Perdida: 1.91448\n",
      "Epoca: 3/5, Paso: 200/600, Perdida: 1.87518\n",
      "Epoca: 3/5, Paso: 300/600, Perdida: 1.90167\n",
      "Epoca: 3/5, Paso: 400/600, Perdida: 1.88025\n",
      "Epoca: 3/5, Paso: 500/600, Perdida: 1.88819\n",
      "Epoca: 3/5, Paso: 600/600, Perdida: 1.87560\n",
      "Epoca: 4/5, Paso: 100/600, Perdida: 1.87594\n",
      "Epoca: 4/5, Paso: 200/600, Perdida: 1.88629\n",
      "Epoca: 4/5, Paso: 300/600, Perdida: 1.88074\n",
      "Epoca: 4/5, Paso: 400/600, Perdida: 1.86547\n",
      "Epoca: 4/5, Paso: 500/600, Perdida: 1.86521\n",
      "Epoca: 4/5, Paso: 600/600, Perdida: 1.85983\n",
      "Epoca: 5/5, Paso: 100/600, Perdida: 1.90842\n",
      "Epoca: 5/5, Paso: 200/600, Perdida: 1.88996\n",
      "Epoca: 5/5, Paso: 300/600, Perdida: 1.87397\n",
      "Epoca: 5/5, Paso: 400/600, Perdida: 1.88995\n",
      "Epoca: 5/5, Paso: 500/600, Perdida: 1.87400\n",
      "Epoca: 5/5, Paso: 600/600, Perdida: 1.79316\n"
     ]
    }
   ],
   "source": [
    "model10 = NNh5_sigm(input_size, num_classes).to(device)\n",
    "loss_function = nn.CrossEntropyLoss()\n",
    "\n",
    "optimizer = torch.optim.Adam(model10.parameters(), lr=lr)\n",
    "\n",
    "for epoch in range(num_epochs):\n",
    "  for i, (xi, yi) in enumerate(train_loader):\n",
    "    \n",
    "    xi = xi.reshape(-1, 28*28).to(device)# imagenes\n",
    "    yi = yi.to(device)# etiquetas\n",
    "    \n",
    "    output = model10(xi)\n",
    "    loss = loss_function(output, yi)\n",
    "    \n",
    "    optimizer.zero_grad()\n",
    "    loss.backward()\n",
    "    optimizer.step()\n",
    "    \n",
    "    if (i+1) % 100 == 0:\n",
    "      print ('Epoca: {}/{}, Paso: {}/{}, Perdida: {:.5f}'.format(epoch+1,num_epochs, i+1, len(train_loader), loss.item()))"
   ]
  },
  {
   "cell_type": "code",
   "execution_count": 28,
   "metadata": {},
   "outputs": [
    {
     "name": "stdout",
     "output_type": "stream",
     "text": [
      "Precision del modelo en 10000 imagenes: 30.2\n"
     ]
    }
   ],
   "source": [
    "with torch.no_grad():\n",
    "  correct = 0\n",
    "  total = 0\n",
    "    \n",
    "  for xi, yi in test_loader:\n",
    "    xi = xi.reshape(-1, 28*28).to(device)\n",
    "    yi = yi.to(device)\n",
    "    \n",
    "    output = model10(xi)\n",
    "    _, predicted = torch.max(output.data, 1)\n",
    "    \n",
    "    total += yi.size(0)\n",
    "    correct += (predicted == yi).sum().item()\n",
    "    \n",
    "  print(f'Precision del modelo en {total} imagenes: {100 * correct / total}')\n",
    "des.append(100 * correct / total)"
   ]
  },
  {
   "cell_type": "markdown",
   "metadata": {},
   "source": [
    "Ahora veamos los modelos ReLU con optimizador Adam"
   ]
  },
  {
   "cell_type": "code",
   "execution_count": 29,
   "metadata": {},
   "outputs": [
    {
     "name": "stdout",
     "output_type": "stream",
     "text": [
      "Epoca: 1/5, Paso: 100/600, Perdida: 0.32941\n",
      "Epoca: 1/5, Paso: 200/600, Perdida: 0.26880\n",
      "Epoca: 1/5, Paso: 300/600, Perdida: 0.17250\n",
      "Epoca: 1/5, Paso: 400/600, Perdida: 0.14274\n",
      "Epoca: 1/5, Paso: 500/600, Perdida: 0.15252\n",
      "Epoca: 1/5, Paso: 600/600, Perdida: 0.18871\n",
      "Epoca: 2/5, Paso: 100/600, Perdida: 0.19011\n",
      "Epoca: 2/5, Paso: 200/600, Perdida: 0.19723\n",
      "Epoca: 2/5, Paso: 300/600, Perdida: 0.06461\n",
      "Epoca: 2/5, Paso: 400/600, Perdida: 0.07689\n",
      "Epoca: 2/5, Paso: 500/600, Perdida: 0.07893\n",
      "Epoca: 2/5, Paso: 600/600, Perdida: 0.07072\n",
      "Epoca: 3/5, Paso: 100/600, Perdida: 0.10660\n",
      "Epoca: 3/5, Paso: 200/600, Perdida: 0.03420\n",
      "Epoca: 3/5, Paso: 300/600, Perdida: 0.09573\n",
      "Epoca: 3/5, Paso: 400/600, Perdida: 0.09440\n",
      "Epoca: 3/5, Paso: 500/600, Perdida: 0.09727\n",
      "Epoca: 3/5, Paso: 600/600, Perdida: 0.08394\n",
      "Epoca: 4/5, Paso: 100/600, Perdida: 0.13162\n",
      "Epoca: 4/5, Paso: 200/600, Perdida: 0.02622\n",
      "Epoca: 4/5, Paso: 300/600, Perdida: 0.05100\n",
      "Epoca: 4/5, Paso: 400/600, Perdida: 0.14104\n",
      "Epoca: 4/5, Paso: 500/600, Perdida: 0.02357\n",
      "Epoca: 4/5, Paso: 600/600, Perdida: 0.10492\n",
      "Epoca: 5/5, Paso: 100/600, Perdida: 0.02790\n",
      "Epoca: 5/5, Paso: 200/600, Perdida: 0.01725\n",
      "Epoca: 5/5, Paso: 300/600, Perdida: 0.05353\n",
      "Epoca: 5/5, Paso: 400/600, Perdida: 0.05239\n",
      "Epoca: 5/5, Paso: 500/600, Perdida: 0.01808\n",
      "Epoca: 5/5, Paso: 600/600, Perdida: 0.01927\n"
     ]
    }
   ],
   "source": [
    "model11 = NNh1_relu(input_size, num_classes).to(device)\n",
    "loss_function = nn.CrossEntropyLoss()\n",
    "\n",
    "optimizer = torch.optim.Adam(model11.parameters(), lr=lr)\n",
    "\n",
    "for epoch in range(num_epochs):\n",
    "  for i, (xi, yi) in enumerate(train_loader):\n",
    "    \n",
    "    xi = xi.reshape(-1, 28*28).to(device)# imagenes\n",
    "    yi = yi.to(device)# etiquetas\n",
    "    \n",
    "    # Propagacion para adelante\n",
    "    output = model11(xi)\n",
    "    loss = loss_function(output, yi)\n",
    "    # Propagcion para atras y paso de optimizacion\n",
    "    \n",
    "    optimizer.zero_grad()\n",
    "    loss.backward()\n",
    "    optimizer.step()\n",
    "    \n",
    "    if (i+1) % 100 == 0:\n",
    "      print ('Epoca: {}/{}, Paso: {}/{}, Perdida: {:.5f}'.format(epoch+1,num_epochs, i+1, len(train_loader), loss.item()))"
   ]
  },
  {
   "cell_type": "code",
   "execution_count": 30,
   "metadata": {},
   "outputs": [
    {
     "name": "stdout",
     "output_type": "stream",
     "text": [
      "Precision del modelo en 10000 imagenes: 97.91\n"
     ]
    }
   ],
   "source": [
    "with torch.no_grad():\n",
    "  correct = 0\n",
    "  total = 0\n",
    "    \n",
    "  for xi, yi in test_loader:\n",
    "    xi = xi.reshape(-1, 28*28).to(device)\n",
    "    yi = yi.to(device)\n",
    "    \n",
    "    output = model11(xi)\n",
    "    _, predicted = torch.max(output.data, 1)\n",
    "    \n",
    "    total += yi.size(0)\n",
    "    correct += (predicted == yi).sum().item()\n",
    "    \n",
    "  print(f'Precision del modelo en {total} imagenes: {100 * correct / total}')\n",
    "des.append(100 * correct / total)"
   ]
  },
  {
   "cell_type": "markdown",
   "metadata": {},
   "source": [
    "Usando el modelo ReLu con 3 capas tenemos"
   ]
  },
  {
   "cell_type": "code",
   "execution_count": 31,
   "metadata": {},
   "outputs": [
    {
     "name": "stdout",
     "output_type": "stream",
     "text": [
      "Epoca: 1/5, Paso: 100/600, Perdida: 0.26311\n",
      "Epoca: 1/5, Paso: 200/600, Perdida: 0.24223\n",
      "Epoca: 1/5, Paso: 300/600, Perdida: 0.23342\n",
      "Epoca: 1/5, Paso: 400/600, Perdida: 0.23327\n",
      "Epoca: 1/5, Paso: 500/600, Perdida: 0.28353\n",
      "Epoca: 1/5, Paso: 600/600, Perdida: 0.24568\n",
      "Epoca: 2/5, Paso: 100/600, Perdida: 0.10692\n",
      "Epoca: 2/5, Paso: 200/600, Perdida: 0.09132\n",
      "Epoca: 2/5, Paso: 300/600, Perdida: 0.03224\n",
      "Epoca: 2/5, Paso: 400/600, Perdida: 0.10465\n",
      "Epoca: 2/5, Paso: 500/600, Perdida: 0.10182\n",
      "Epoca: 2/5, Paso: 600/600, Perdida: 0.17879\n",
      "Epoca: 3/5, Paso: 100/600, Perdida: 0.06268\n",
      "Epoca: 3/5, Paso: 200/600, Perdida: 0.10687\n",
      "Epoca: 3/5, Paso: 300/600, Perdida: 0.12048\n",
      "Epoca: 3/5, Paso: 400/600, Perdida: 0.09436\n",
      "Epoca: 3/5, Paso: 500/600, Perdida: 0.07825\n",
      "Epoca: 3/5, Paso: 600/600, Perdida: 0.10292\n",
      "Epoca: 4/5, Paso: 100/600, Perdida: 0.01271\n",
      "Epoca: 4/5, Paso: 200/600, Perdida: 0.09670\n",
      "Epoca: 4/5, Paso: 300/600, Perdida: 0.04742\n",
      "Epoca: 4/5, Paso: 400/600, Perdida: 0.02390\n",
      "Epoca: 4/5, Paso: 500/600, Perdida: 0.07859\n",
      "Epoca: 4/5, Paso: 600/600, Perdida: 0.04748\n",
      "Epoca: 5/5, Paso: 100/600, Perdida: 0.02559\n",
      "Epoca: 5/5, Paso: 200/600, Perdida: 0.03118\n",
      "Epoca: 5/5, Paso: 300/600, Perdida: 0.03374\n",
      "Epoca: 5/5, Paso: 400/600, Perdida: 0.03324\n",
      "Epoca: 5/5, Paso: 500/600, Perdida: 0.05649\n",
      "Epoca: 5/5, Paso: 600/600, Perdida: 0.07386\n"
     ]
    }
   ],
   "source": [
    "model12 = NNh1_relu(input_size, num_classes).to(device)\n",
    "loss_function = nn.CrossEntropyLoss()\n",
    "\n",
    "optimizer = torch.optim.Adam(model12.parameters(), lr=lr)\n",
    "\n",
    "for epoch in range(num_epochs):\n",
    "  for i, (xi, yi) in enumerate(train_loader):\n",
    "    \n",
    "    xi = xi.reshape(-1, 28*28).to(device)# imagenes\n",
    "    yi = yi.to(device)# etiquetas\n",
    "    \n",
    "    # Propagacion para adelante\n",
    "    output = model12(xi)\n",
    "    loss = loss_function(output, yi)\n",
    "    # Propagcion para atras y paso de optimizacion\n",
    "    \n",
    "    optimizer.zero_grad()\n",
    "    loss.backward()\n",
    "    optimizer.step()\n",
    "    \n",
    "    if (i+1) % 100 == 0:\n",
    "      print ('Epoca: {}/{}, Paso: {}/{}, Perdida: {:.5f}'.format(epoch+1,num_epochs, i+1, len(train_loader), loss.item()))"
   ]
  },
  {
   "cell_type": "code",
   "execution_count": 32,
   "metadata": {},
   "outputs": [
    {
     "name": "stdout",
     "output_type": "stream",
     "text": [
      "Precision del modelo en 10000 imagenes: 97.92\n"
     ]
    }
   ],
   "source": [
    "with torch.no_grad():\n",
    "  correct = 0\n",
    "  total = 0\n",
    "    \n",
    "  for xi, yi in test_loader:\n",
    "    xi = xi.reshape(-1, 28*28).to(device)\n",
    "    yi = yi.to(device)\n",
    "    \n",
    "    output = model12(xi)\n",
    "    _, predicted = torch.max(output.data, 1)\n",
    "    \n",
    "    total += yi.size(0)\n",
    "    correct += (predicted == yi).sum().item()\n",
    "    \n",
    "  print(f'Precision del modelo en {total} imagenes: {100 * correct / total}')\n",
    "des.append(100 * correct / total)"
   ]
  },
  {
   "cell_type": "markdown",
   "metadata": {},
   "source": [
    "Por último usamos el modelo ReLu con 5 capas"
   ]
  },
  {
   "cell_type": "code",
   "execution_count": 33,
   "metadata": {},
   "outputs": [
    {
     "name": "stdout",
     "output_type": "stream",
     "text": [
      "Epoca: 1/5, Paso: 100/600, Perdida: 0.33847\n",
      "Epoca: 1/5, Paso: 200/600, Perdida: 0.21915\n",
      "Epoca: 1/5, Paso: 300/600, Perdida: 0.31216\n",
      "Epoca: 1/5, Paso: 400/600, Perdida: 0.27333\n",
      "Epoca: 1/5, Paso: 500/600, Perdida: 0.10368\n",
      "Epoca: 1/5, Paso: 600/600, Perdida: 0.11107\n",
      "Epoca: 2/5, Paso: 100/600, Perdida: 0.11670\n",
      "Epoca: 2/5, Paso: 200/600, Perdida: 0.14809\n",
      "Epoca: 2/5, Paso: 300/600, Perdida: 0.18348\n",
      "Epoca: 2/5, Paso: 400/600, Perdida: 0.07196\n",
      "Epoca: 2/5, Paso: 500/600, Perdida: 0.09731\n",
      "Epoca: 2/5, Paso: 600/600, Perdida: 0.15184\n",
      "Epoca: 3/5, Paso: 100/600, Perdida: 0.10314\n",
      "Epoca: 3/5, Paso: 200/600, Perdida: 0.05126\n",
      "Epoca: 3/5, Paso: 300/600, Perdida: 0.05320\n",
      "Epoca: 3/5, Paso: 400/600, Perdida: 0.07367\n",
      "Epoca: 3/5, Paso: 500/600, Perdida: 0.02753\n",
      "Epoca: 3/5, Paso: 600/600, Perdida: 0.04321\n",
      "Epoca: 4/5, Paso: 100/600, Perdida: 0.03991\n",
      "Epoca: 4/5, Paso: 200/600, Perdida: 0.05772\n",
      "Epoca: 4/5, Paso: 300/600, Perdida: 0.02665\n",
      "Epoca: 4/5, Paso: 400/600, Perdida: 0.05149\n",
      "Epoca: 4/5, Paso: 500/600, Perdida: 0.04226\n",
      "Epoca: 4/5, Paso: 600/600, Perdida: 0.11400\n",
      "Epoca: 5/5, Paso: 100/600, Perdida: 0.07390\n",
      "Epoca: 5/5, Paso: 200/600, Perdida: 0.01518\n",
      "Epoca: 5/5, Paso: 300/600, Perdida: 0.00623\n",
      "Epoca: 5/5, Paso: 400/600, Perdida: 0.03286\n",
      "Epoca: 5/5, Paso: 500/600, Perdida: 0.02798\n",
      "Epoca: 5/5, Paso: 600/600, Perdida: 0.03166\n"
     ]
    }
   ],
   "source": [
    "model13 = NNh1_relu(input_size, num_classes).to(device)\n",
    "loss_function = nn.CrossEntropyLoss()\n",
    "\n",
    "optimizer = torch.optim.Adam(model13.parameters(), lr=lr)\n",
    "\n",
    "for epoch in range(num_epochs):\n",
    "  for i, (xi, yi) in enumerate(train_loader):\n",
    "    \n",
    "    xi = xi.reshape(-1, 28*28).to(device)# imagenes\n",
    "    yi = yi.to(device)# etiquetas\n",
    "    \n",
    "    # Propagacion para adelante\n",
    "    output = model13(xi)\n",
    "    loss = loss_function(output, yi)\n",
    "    # Propagcion para atras y paso de optimizacion\n",
    "    \n",
    "    optimizer.zero_grad()\n",
    "    loss.backward()\n",
    "    optimizer.step()\n",
    "    \n",
    "    if (i+1) % 100 == 0:\n",
    "      print ('Epoca: {}/{}, Paso: {}/{}, Perdida: {:.5f}'.format(epoch+1,num_epochs, i+1, len(train_loader), loss.item()))"
   ]
  },
  {
   "cell_type": "code",
   "execution_count": 34,
   "metadata": {},
   "outputs": [
    {
     "name": "stdout",
     "output_type": "stream",
     "text": [
      "Precision del modelo en 10000 imagenes: 97.93\n"
     ]
    }
   ],
   "source": [
    "with torch.no_grad():\n",
    "  correct = 0\n",
    "  total = 0\n",
    "    \n",
    "  for xi, yi in test_loader:\n",
    "    xi = xi.reshape(-1, 28*28).to(device)\n",
    "    yi = yi.to(device)\n",
    "    \n",
    "    output = model13(xi)\n",
    "    _, predicted = torch.max(output.data, 1)\n",
    "    \n",
    "    total += yi.size(0)\n",
    "    correct += (predicted == yi).sum().item()\n",
    "    \n",
    "  print(f'Precision del modelo en {total} imagenes: {100 * correct / total}')\n",
    "des.append(100 * correct / total)"
   ]
  },
  {
   "cell_type": "code",
   "execution_count": 35,
   "metadata": {},
   "outputs": [
    {
     "name": "stdout",
     "output_type": "stream",
     "text": [
      "[82.99, 47.85, 10.32, 9.8, 78.87, 77.61, 78.6, 96.77, 68.83, 30.2, 97.91, 97.92, 97.93]\n"
     ]
    }
   ],
   "source": [
    "print(des)"
   ]
  },
  {
   "cell_type": "code",
   "execution_count": 42,
   "metadata": {},
   "outputs": [
    {
     "data": {
      "image/png": "[encoded data removed]",
      "text/plain": [
       "<Figure size 2160x360 with 1 Axes>"
      ]
     },
     "metadata": {
      "needs_background": "light"
     },
     "output_type": "display_data"
    }
   ],
   "source": [
    "import matplotlib.pyplot as plt\n",
    "\n",
    "plt.bar(['RegMult','RN_sig','RN3_sig','RN5_sig','RN_rl','RN3_rl','RN5_rl','RN_s_adam','RN3_s_adam','RN5_s_adam','RN_r_adam','RN3_r_adam','RN5_r_adam'],des)\n",
    "plt.ylabel('Precisión del modelo')\n",
    "plt.rcParams[\"figure.figsize\"] = (25,5)\n",
    "plt.show()"
   ]
  },
  {
   "cell_type": "markdown",
   "metadata": {},
   "source": [
    "9. ¿Qué puede concluir a partir de estos experimentos? (e.g. \"SGD es mejor que Adam\", \"La red predice mejor\n",
    "cuando usamos nn.ReLU que cuando usamos nn.Sigmoid\", etc)\n",
    "\n",
    "En general Adam se comporta mejor,  particularmente para los modelos RELU. Siendo el mejor modelo el ReLu de 5 capas con optimizador Adam."
   ]
  },
  {
   "cell_type": "code",
   "execution_count": null,
   "metadata": {},
   "outputs": [],
   "source": []
  }
 ],
 "metadata": {
  "kernelspec": {
   "display_name": "Python 3",
   "language": "python",
   "name": "python3"
  },
  "language_info": {
   "codemirror_mode": {
    "name": "ipython",
    "version": 3
   },
   "file_extension": ".py",
   "mimetype": "text/x-python",
   "name": "python",
   "nbconvert_exporter": "python",
   "pygments_lexer": "ipython3",
   "version": "3.7.3"
  }
 },
 "nbformat": 4,
 "nbformat_minor": 2
}
